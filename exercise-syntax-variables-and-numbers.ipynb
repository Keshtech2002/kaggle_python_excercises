{
 "cells": [
  {
   "cell_type": "markdown",
   "id": "3483ddb0",
   "metadata": {
    "papermill": {
     "duration": 0.020855,
     "end_time": "2022-03-24T11:23:02.359241",
     "exception": false,
     "start_time": "2022-03-24T11:23:02.338386",
     "status": "completed"
    },
    "tags": []
   },
   "source": [
    "**This notebook is an exercise in the [Python](https://www.kaggle.com/learn/python) course.  You can reference the tutorial at [this link](https://www.kaggle.com/colinmorris/hello-python).**\n",
    "\n",
    "---\n"
   ]
  },
  {
   "cell_type": "markdown",
   "id": "2341ce1c",
   "metadata": {
    "papermill": {
     "duration": 0.022902,
     "end_time": "2022-03-24T11:23:02.405128",
     "exception": false,
     "start_time": "2022-03-24T11:23:02.382226",
     "status": "completed"
    },
    "tags": []
   },
   "source": [
    "Welcome to your first set of Python coding problems.  If this is your first time using Kaggle Notebooks, welcome! \n",
    "\n",
    "Notebooks are composed of blocks (called \"cells\") of text and code. Each of these is editable, though you'll mainly be editing the code cells to answer some questions.\n",
    "\n",
    "To get started, try running the code cell below (by pressing the ► button, or clicking on the cell and pressing ctrl+enter on your keyboard)."
   ]
  },
  {
   "cell_type": "code",
   "execution_count": 1,
   "id": "aabc8465",
   "metadata": {
    "execution": {
     "iopub.execute_input": "2022-03-24T11:23:02.446818Z",
     "iopub.status.busy": "2022-03-24T11:23:02.445776Z",
     "iopub.status.idle": "2022-03-24T11:23:02.454169Z",
     "shell.execute_reply": "2022-03-24T11:23:02.454829Z",
     "shell.execute_reply.started": "2022-03-24T10:52:04.886627Z"
    },
    "papermill": {
     "duration": 0.031439,
     "end_time": "2022-03-24T11:23:02.455194",
     "exception": false,
     "start_time": "2022-03-24T11:23:02.423755",
     "status": "completed"
    },
    "tags": []
   },
   "outputs": [
    {
     "name": "stdout",
     "output_type": "stream",
     "text": [
      "You've successfully run some Python code\n",
      "Congratulations!\n",
      "Musab\n"
     ]
    }
   ],
   "source": [
    "print(\"You've successfully run some Python code\")\n",
    "print(\"Congratulations!\")\n",
    "print(\"Musab\")"
   ]
  },
  {
   "cell_type": "markdown",
   "id": "0ed564e1",
   "metadata": {
    "papermill": {
     "duration": 0.018639,
     "end_time": "2022-03-24T11:23:02.494752",
     "exception": false,
     "start_time": "2022-03-24T11:23:02.476113",
     "status": "completed"
    },
    "tags": []
   },
   "source": [
    "Try adding another line of code in the cell above and re-running it. \n",
    "\n",
    "Now let's get a little fancier:  Add a new code cell by clicking on an existing code cell, hitting the escape key, and then hitting the `a` or `b` key.  The `a` key will add a cell above the current cell, and `b` adds a cell below.\n",
    "\n",
    "Great! Now you know how to use Notebooks.\n",
    "\n",
    "Each hands-on exercise starts by setting up our feedback and code checking mechanism. Run the code cell below to do that. Then you'll be ready to move on to question 0."
   ]
  },
  {
   "cell_type": "code",
   "execution_count": 2,
   "id": "ea9ceaa5",
   "metadata": {
    "_kg_hide-input": true,
    "_kg_hide-output": true,
    "execution": {
     "iopub.execute_input": "2022-03-24T11:23:02.535329Z",
     "iopub.status.busy": "2022-03-24T11:23:02.534654Z",
     "iopub.status.idle": "2022-03-24T11:23:02.574858Z",
     "shell.execute_reply": "2022-03-24T11:23:02.575294Z",
     "shell.execute_reply.started": "2022-03-24T10:53:26.909396Z"
    },
    "papermill": {
     "duration": 0.061916,
     "end_time": "2022-03-24T11:23:02.575474",
     "exception": false,
     "start_time": "2022-03-24T11:23:02.513558",
     "status": "completed"
    },
    "tags": []
   },
   "outputs": [
    {
     "name": "stdout",
     "output_type": "stream",
     "text": [
      "Setup complete! You're ready to start question 0.\n"
     ]
    }
   ],
   "source": [
    "from learntools.core import binder; binder.bind(globals())\n",
    "from learntools.python.ex1 import *\n",
    "print(\"Setup complete! You're ready to start question 0.\")"
   ]
  },
  {
   "cell_type": "markdown",
   "id": "15011903",
   "metadata": {
    "papermill": {
     "duration": 0.018858,
     "end_time": "2022-03-24T11:23:02.613952",
     "exception": false,
     "start_time": "2022-03-24T11:23:02.595094",
     "status": "completed"
    },
    "tags": []
   },
   "source": [
    "# 0.\n",
    "\n",
    "*This is a silly question intended as an introduction to the format we use for hands-on exercises throughout all Kaggle courses.*\n",
    "\n",
    "**What is your favorite color? **\n",
    "\n",
    "To complete this question, create a variable called `color` in the cell below with an appropriate value. The function call `q0.check()` (which we've already provided in the cell below) will check your answer."
   ]
  },
  {
   "cell_type": "code",
   "execution_count": 3,
   "id": "7b73d137",
   "metadata": {
    "execution": {
     "iopub.execute_input": "2022-03-24T11:23:02.671067Z",
     "iopub.status.busy": "2022-03-24T11:23:02.670461Z",
     "iopub.status.idle": "2022-03-24T11:23:02.680668Z",
     "shell.execute_reply": "2022-03-24T11:23:02.681163Z",
     "shell.execute_reply.started": "2022-03-24T10:55:30.349427Z"
    },
    "papermill": {
     "duration": 0.038969,
     "end_time": "2022-03-24T11:23:02.681340",
     "exception": false,
     "start_time": "2022-03-24T11:23:02.642371",
     "status": "completed"
    },
    "tags": []
   },
   "outputs": [
    {
     "data": {
      "application/javascript": [
       "parent.postMessage({\"jupyterEvent\": \"custom.exercise_interaction\", \"data\": {\"outcomeType\": 1, \"valueTowardsCompletion\": 0.25, \"interactionType\": 1, \"questionType\": 2, \"questionId\": \"0_ExerciseFormatTutorial\", \"learnToolsVersion\": \"0.3.4\", \"failureMessage\": \"\", \"exceptionClass\": \"\", \"trace\": \"\"}}, \"*\")"
      ],
      "text/plain": [
       "<IPython.core.display.Javascript object>"
      ]
     },
     "metadata": {},
     "output_type": "display_data"
    },
    {
     "data": {
      "text/markdown": [
       "<span style=\"color:#33cc33\">Correct:</span> What?! You got it right without needing a hint or anything? Drats. Well hey, you should still continue to the next step to get some practice asking for a hint and checking solutions. (Even though you obviously don't need any help here.)"
      ],
      "text/plain": [
       "Correct: What?! You got it right without needing a hint or anything? Drats. Well hey, you should still continue to the next step to get some practice asking for a hint and checking solutions. (Even though you obviously don't need any help here.)"
      ]
     },
     "metadata": {},
     "output_type": "display_data"
    }
   ],
   "source": [
    "# create a variable called color with an appropriate value on the line below\n",
    "color = \"Blue\"\n",
    "# (Remember, strings in Python must be enclosed in 'single' or \"double\" quotes)\n",
    "____\n",
    "\n",
    "# Check your answer\n",
    "q0.check()"
   ]
  },
  {
   "cell_type": "markdown",
   "id": "9d944f03",
   "metadata": {
    "papermill": {
     "duration": 0.022414,
     "end_time": "2022-03-24T11:23:02.724168",
     "exception": false,
     "start_time": "2022-03-24T11:23:02.701754",
     "status": "completed"
    },
    "tags": []
   },
   "source": [
    "Didn't get the right answer? How do you not even know your own favorite color?!\n",
    "\n",
    "Delete the `#` in the line below to make one of the lines run. You can choose between getting a hint or the full answer by choosing which line to remove the `#` from. \n",
    "\n",
    "Removing the `#` is called uncommenting, because it changes that line from a \"comment\" which Python doesn't run to code, which Python does run."
   ]
  },
  {
   "cell_type": "code",
   "execution_count": 4,
   "id": "4f203125",
   "metadata": {
    "execution": {
     "iopub.execute_input": "2022-03-24T11:23:02.771143Z",
     "iopub.status.busy": "2022-03-24T11:23:02.770465Z",
     "iopub.status.idle": "2022-03-24T11:23:02.774290Z",
     "shell.execute_reply": "2022-03-24T11:23:02.774736Z",
     "shell.execute_reply.started": "2022-03-24T10:56:58.528841Z"
    },
    "papermill": {
     "duration": 0.029295,
     "end_time": "2022-03-24T11:23:02.774902",
     "exception": false,
     "start_time": "2022-03-24T11:23:02.745607",
     "status": "completed"
    },
    "tags": []
   },
   "outputs": [
    {
     "data": {
      "application/javascript": [
       "parent.postMessage({\"jupyterEvent\": \"custom.exercise_interaction\", \"data\": {\"interactionType\": 3, \"questionType\": 2, \"questionId\": \"0_ExerciseFormatTutorial\", \"learnToolsVersion\": \"0.3.4\", \"valueTowardsCompletion\": 0.0, \"failureMessage\": \"\", \"exceptionClass\": \"\", \"trace\": \"\", \"outcomeType\": 4}}, \"*\")"
      ],
      "text/plain": [
       "<IPython.core.display.Javascript object>"
      ]
     },
     "metadata": {},
     "output_type": "display_data"
    },
    {
     "data": {
      "text/markdown": [
       "<span style=\"color:#33cc99\">Solution:</span> \n",
       "```python\n",
       "color = \"blue\"\n",
       "```"
      ],
      "text/plain": [
       "Solution: \n",
       "```python\n",
       "color = \"blue\"\n",
       "```"
      ]
     },
     "metadata": {},
     "output_type": "display_data"
    }
   ],
   "source": [
    "#q0.hint()\n",
    "q0.solution()"
   ]
  },
  {
   "cell_type": "markdown",
   "id": "1fdd39f6",
   "metadata": {
    "papermill": {
     "duration": 0.020729,
     "end_time": "2022-03-24T11:23:02.816907",
     "exception": false,
     "start_time": "2022-03-24T11:23:02.796178",
     "status": "completed"
    },
    "tags": []
   },
   "source": [
    "The upcoming questions work the same way. The only thing that will change are the question numbers. For the next question, you'll call `q1.check()`, `q1.hint()`, `q1.solution()`, for question 2, you'll call `q2.check()`, and so on."
   ]
  },
  {
   "cell_type": "markdown",
   "id": "e900e51a",
   "metadata": {
    "papermill": {
     "duration": 0.020545,
     "end_time": "2022-03-24T11:23:02.858398",
     "exception": false,
     "start_time": "2022-03-24T11:23:02.837853",
     "status": "completed"
    },
    "tags": []
   },
   "source": [
    "<hr/>\n",
    "\n",
    "# 1.\n",
    "\n",
    "Complete the code below. In case it's helpful, here is the table of available arithmetic operations:\n",
    "\n",
    "\n",
    "\n",
    "| Operator     | Name           | Description                                            |\n",
    "|--------------|----------------|--------------------------------------------------------|\n",
    "| ``a + b``    | Addition       | Sum of ``a`` and ``b``                                 |\n",
    "| ``a - b``    | Subtraction    | Difference of ``a`` and ``b``                          |\n",
    "| ``a * b``    | Multiplication | Product of ``a`` and ``b``                             |\n",
    "| ``a / b``    | True division  | Quotient of ``a`` and ``b``                            |\n",
    "| ``a // b``   | Floor division | Quotient of ``a`` and ``b``, removing fractional parts |\n",
    "| ``a % b``    | Modulus        | Integer remainder after division of ``a`` by ``b``     |\n",
    "| ``a ** b``   | Exponentiation | ``a`` raised to the power of ``b``                     |\n",
    "| ``-a``       | Negation       | The negative of ``a``                                  |\n",
    "\n",
    "<span style=\"display:none\"></span>\n"
   ]
  },
  {
   "cell_type": "code",
   "execution_count": 5,
   "id": "3bc57b0a",
   "metadata": {
    "execution": {
     "iopub.execute_input": "2022-03-24T11:23:02.907338Z",
     "iopub.status.busy": "2022-03-24T11:23:02.906658Z",
     "iopub.status.idle": "2022-03-24T11:23:02.910251Z",
     "shell.execute_reply": "2022-03-24T11:23:02.910673Z",
     "shell.execute_reply.started": "2022-03-24T10:59:56.354278Z"
    },
    "papermill": {
     "duration": 0.031671,
     "end_time": "2022-03-24T11:23:02.910839",
     "exception": false,
     "start_time": "2022-03-24T11:23:02.879168",
     "status": "completed"
    },
    "tags": []
   },
   "outputs": [
    {
     "data": {
      "application/javascript": [
       "parent.postMessage({\"jupyterEvent\": \"custom.exercise_interaction\", \"data\": {\"outcomeType\": 1, \"valueTowardsCompletion\": 0.25, \"interactionType\": 1, \"questionType\": 1, \"questionId\": \"1_CircleArea\", \"learnToolsVersion\": \"0.3.4\", \"failureMessage\": \"\", \"exceptionClass\": \"\", \"trace\": \"\"}}, \"*\")"
      ],
      "text/plain": [
       "<IPython.core.display.Javascript object>"
      ]
     },
     "metadata": {},
     "output_type": "display_data"
    },
    {
     "data": {
      "text/markdown": [
       "<span style=\"color:#33cc33\">Correct</span>"
      ],
      "text/plain": [
       "Correct"
      ]
     },
     "metadata": {},
     "output_type": "display_data"
    }
   ],
   "source": [
    "pi = 3.14159 # approximate\n",
    "diameter = 3\n",
    "\n",
    "\n",
    "# Create a variable called 'radius' equal to half the diameter\n",
    "radius = 0.5 * diameter\n",
    "____\n",
    "\n",
    "# Create a variable called 'area', using the formula for the area of a circle: pi times the radius squared\n",
    "area = pi * (radius**2)\n",
    "____\n",
    "\n",
    "# Check your answer\n",
    "q1.check()"
   ]
  },
  {
   "cell_type": "code",
   "execution_count": 6,
   "id": "b9cfcdae",
   "metadata": {
    "execution": {
     "iopub.execute_input": "2022-03-24T11:23:02.961865Z",
     "iopub.status.busy": "2022-03-24T11:23:02.961253Z",
     "iopub.status.idle": "2022-03-24T11:23:02.966862Z",
     "shell.execute_reply": "2022-03-24T11:23:02.967386Z",
     "shell.execute_reply.started": "2022-03-24T11:00:07.628925Z"
    },
    "papermill": {
     "duration": 0.03405,
     "end_time": "2022-03-24T11:23:02.967555",
     "exception": false,
     "start_time": "2022-03-24T11:23:02.933505",
     "status": "completed"
    },
    "tags": []
   },
   "outputs": [
    {
     "data": {
      "application/javascript": [
       "parent.postMessage({\"jupyterEvent\": \"custom.exercise_interaction\", \"data\": {\"interactionType\": 3, \"questionType\": 1, \"questionId\": \"1_CircleArea\", \"learnToolsVersion\": \"0.3.4\", \"valueTowardsCompletion\": 0.0, \"failureMessage\": \"\", \"exceptionClass\": \"\", \"trace\": \"\", \"outcomeType\": 4}}, \"*\")"
      ],
      "text/plain": [
       "<IPython.core.display.Javascript object>"
      ]
     },
     "metadata": {},
     "output_type": "display_data"
    },
    {
     "data": {
      "text/markdown": [
       "<span style=\"color:#33cc99\">Solution:</span> \n",
       "```python\n",
       "radius = diameter / 2\n",
       "area = pi * radius ** 2\n",
       "```"
      ],
      "text/plain": [
       "Solution: \n",
       "```python\n",
       "radius = diameter / 2\n",
       "area = pi * radius ** 2\n",
       "```"
      ]
     },
     "metadata": {},
     "output_type": "display_data"
    }
   ],
   "source": [
    "# Uncomment and run the lines below if you need help.\n",
    "#q1.hint()\n",
    "q1.solution()"
   ]
  },
  {
   "cell_type": "markdown",
   "id": "4e7e3ae9",
   "metadata": {
    "papermill": {
     "duration": 0.022941,
     "end_time": "2022-03-24T11:23:03.014454",
     "exception": false,
     "start_time": "2022-03-24T11:23:02.991513",
     "status": "completed"
    },
    "tags": []
   },
   "source": [
    "<hr/>\n",
    "\n",
    "# 2.\n",
    "\n",
    "Add code to the following cell to swap variables `a` and `b` (so that `a` refers to the object previously referred to by `b` and vice versa)."
   ]
  },
  {
   "cell_type": "code",
   "execution_count": 7,
   "id": "23a17fb3",
   "metadata": {
    "execution": {
     "iopub.execute_input": "2022-03-24T11:23:03.063960Z",
     "iopub.status.busy": "2022-03-24T11:23:03.063350Z",
     "iopub.status.idle": "2022-03-24T11:23:03.069467Z",
     "shell.execute_reply": "2022-03-24T11:23:03.069958Z",
     "shell.execute_reply.started": "2022-03-24T11:05:03.201844Z"
    },
    "papermill": {
     "duration": 0.03248,
     "end_time": "2022-03-24T11:23:03.070160",
     "exception": false,
     "start_time": "2022-03-24T11:23:03.037680",
     "status": "completed"
    },
    "tags": []
   },
   "outputs": [
    {
     "data": {
      "application/javascript": [
       "parent.postMessage({\"jupyterEvent\": \"custom.exercise_interaction\", \"data\": {\"outcomeType\": 1, \"valueTowardsCompletion\": 0.25, \"interactionType\": 1, \"questionType\": 2, \"questionId\": \"2_VariableSwap\", \"learnToolsVersion\": \"0.3.4\", \"failureMessage\": \"\", \"exceptionClass\": \"\", \"trace\": \"\"}}, \"*\")"
      ],
      "text/plain": [
       "<IPython.core.display.Javascript object>"
      ]
     },
     "metadata": {},
     "output_type": "display_data"
    },
    {
     "data": {
      "text/markdown": [
       "<span style=\"color:#33cc33\">Correct:</span> \n",
       "\n",
       "The most straightforward solution is to use a third variable to temporarily store one of the old values. e.g.:\n",
       "\n",
       "    tmp = a\n",
       "    a = b\n",
       "    b = tmp\n",
       "\n",
       "If you've read lots of Python code, you might have seen the following trick to swap two variables in one line:\n",
       "\n",
       "    a, b = b, a\n",
       "\n",
       "We'll demystify this bit of Python magic later when we talk about *tuples*."
      ],
      "text/plain": [
       "Correct: \n",
       "\n",
       "The most straightforward solution is to use a third variable to temporarily store one of the old values. e.g.:\n",
       "\n",
       "    tmp = a\n",
       "    a = b\n",
       "    b = tmp\n",
       "\n",
       "If you've read lots of Python code, you might have seen the following trick to swap two variables in one line:\n",
       "\n",
       "    a, b = b, a\n",
       "\n",
       "We'll demystify this bit of Python magic later when we talk about *tuples*."
      ]
     },
     "metadata": {},
     "output_type": "display_data"
    }
   ],
   "source": [
    "########### Setup code - don't touch this part ######################\n",
    "# If you're curious, these are examples of lists. We'll talk about \n",
    "# them in depth a few lessons from now. For now, just know that they're\n",
    "# yet another type of Python object, like int or float.\n",
    "a = [1, 2, 3]\n",
    "b = [3, 2, 1]\n",
    "q2.store_original_ids()\n",
    "######################################################################\n",
    "\n",
    "# Your code goes here. Swap the values to which a and b refer.\n",
    "\n",
    "c = a\n",
    "a = b\n",
    "b = c\n",
    "# If you get stuck, you can always uncomment one or both of the lines in\n",
    "# the next cell for a hint, or to peek at the solution.\n",
    "\n",
    "######################################################################\n",
    "\n",
    "# Check your answer\n",
    "q2.check()"
   ]
  },
  {
   "cell_type": "code",
   "execution_count": 8,
   "id": "73aac222",
   "metadata": {
    "execution": {
     "iopub.execute_input": "2022-03-24T11:23:03.124811Z",
     "iopub.status.busy": "2022-03-24T11:23:03.123840Z",
     "iopub.status.idle": "2022-03-24T11:23:03.128377Z",
     "shell.execute_reply": "2022-03-24T11:23:03.128801Z",
     "shell.execute_reply.started": "2022-03-24T11:04:32.240426Z"
    },
    "papermill": {
     "duration": 0.034722,
     "end_time": "2022-03-24T11:23:03.128972",
     "exception": false,
     "start_time": "2022-03-24T11:23:03.094250",
     "status": "completed"
    },
    "tags": []
   },
   "outputs": [
    {
     "data": {
      "application/javascript": [
       "parent.postMessage({\"jupyterEvent\": \"custom.exercise_interaction\", \"data\": {\"interactionType\": 2, \"questionType\": 2, \"questionId\": \"2_VariableSwap\", \"learnToolsVersion\": \"0.3.4\", \"valueTowardsCompletion\": 0.0, \"failureMessage\": \"\", \"exceptionClass\": \"\", \"trace\": \"\", \"outcomeType\": 4}}, \"*\")"
      ],
      "text/plain": [
       "<IPython.core.display.Javascript object>"
      ]
     },
     "metadata": {},
     "output_type": "display_data"
    },
    {
     "data": {
      "text/markdown": [
       "<span style=\"color:#3366cc\">Hint:</span> Try using a third variable."
      ],
      "text/plain": [
       "Hint: Try using a third variable."
      ]
     },
     "metadata": {},
     "output_type": "display_data"
    }
   ],
   "source": [
    "q2.hint()"
   ]
  },
  {
   "cell_type": "code",
   "execution_count": 9,
   "id": "587e0e00",
   "metadata": {
    "execution": {
     "iopub.execute_input": "2022-03-24T11:23:03.182123Z",
     "iopub.status.busy": "2022-03-24T11:23:03.181239Z",
     "iopub.status.idle": "2022-03-24T11:23:03.187686Z",
     "shell.execute_reply": "2022-03-24T11:23:03.188115Z",
     "shell.execute_reply.started": "2022-03-24T11:04:37.930471Z"
    },
    "papermill": {
     "duration": 0.034592,
     "end_time": "2022-03-24T11:23:03.188284",
     "exception": false,
     "start_time": "2022-03-24T11:23:03.153692",
     "status": "completed"
    },
    "tags": []
   },
   "outputs": [
    {
     "data": {
      "application/javascript": [
       "parent.postMessage({\"jupyterEvent\": \"custom.exercise_interaction\", \"data\": {\"interactionType\": 3, \"questionType\": 2, \"questionId\": \"2_VariableSwap\", \"learnToolsVersion\": \"0.3.4\", \"valueTowardsCompletion\": 0.0, \"failureMessage\": \"\", \"exceptionClass\": \"\", \"trace\": \"\", \"outcomeType\": 4}}, \"*\")"
      ],
      "text/plain": [
       "<IPython.core.display.Javascript object>"
      ]
     },
     "metadata": {},
     "output_type": "display_data"
    },
    {
     "data": {
      "text/markdown": [
       "<span style=\"color:#33cc99\">Solution:</span> The most straightforward solution is to use a third variable to temporarily store one of the old values. e.g.:\n",
       "\n",
       "    tmp = a\n",
       "    a = b\n",
       "    b = tmp\n",
       "\n",
       "If you've read lots of Python code, you might have seen the following trick to swap two variables in one line:\n",
       "\n",
       "    a, b = b, a\n",
       "\n",
       "We'll demystify this bit of Python magic later when we talk about *tuples*."
      ],
      "text/plain": [
       "Solution: The most straightforward solution is to use a third variable to temporarily store one of the old values. e.g.:\n",
       "\n",
       "    tmp = a\n",
       "    a = b\n",
       "    b = tmp\n",
       "\n",
       "If you've read lots of Python code, you might have seen the following trick to swap two variables in one line:\n",
       "\n",
       "    a, b = b, a\n",
       "\n",
       "We'll demystify this bit of Python magic later when we talk about *tuples*."
      ]
     },
     "metadata": {},
     "output_type": "display_data"
    }
   ],
   "source": [
    "q2.solution()"
   ]
  },
  {
   "cell_type": "markdown",
   "id": "aab156cf",
   "metadata": {
    "papermill": {
     "duration": 0.02546,
     "end_time": "2022-03-24T11:23:03.240565",
     "exception": false,
     "start_time": "2022-03-24T11:23:03.215105",
     "status": "completed"
    },
    "tags": []
   },
   "source": [
    "<hr/>\n",
    "\n",
    "# 3a.\n",
    "\n",
    "Add parentheses to the following expression so that it evaluates to 1."
   ]
  },
  {
   "cell_type": "code",
   "execution_count": 10,
   "id": "67378bf4",
   "metadata": {
    "execution": {
     "iopub.execute_input": "2022-03-24T11:23:03.295886Z",
     "iopub.status.busy": "2022-03-24T11:23:03.294997Z",
     "iopub.status.idle": "2022-03-24T11:23:03.299878Z",
     "shell.execute_reply": "2022-03-24T11:23:03.300326Z",
     "shell.execute_reply.started": "2022-03-24T11:06:39.337063Z"
    },
    "papermill": {
     "duration": 0.034146,
     "end_time": "2022-03-24T11:23:03.300483",
     "exception": false,
     "start_time": "2022-03-24T11:23:03.266337",
     "status": "completed"
    },
    "tags": []
   },
   "outputs": [
    {
     "data": {
      "text/plain": [
       "1"
      ]
     },
     "execution_count": 10,
     "metadata": {},
     "output_type": "execute_result"
    }
   ],
   "source": [
    "(5 - 3) // 2"
   ]
  },
  {
   "cell_type": "code",
   "execution_count": 11,
   "id": "ff619d7f",
   "metadata": {
    "execution": {
     "iopub.execute_input": "2022-03-24T11:23:03.356359Z",
     "iopub.status.busy": "2022-03-24T11:23:03.355493Z",
     "iopub.status.idle": "2022-03-24T11:23:03.358580Z",
     "shell.execute_reply": "2022-03-24T11:23:03.358982Z"
    },
    "papermill": {
     "duration": 0.032485,
     "end_time": "2022-03-24T11:23:03.359166",
     "exception": false,
     "start_time": "2022-03-24T11:23:03.326681",
     "status": "completed"
    },
    "tags": []
   },
   "outputs": [],
   "source": [
    "#q3.a.hint()"
   ]
  },
  {
   "cell_type": "code",
   "execution_count": 12,
   "id": "2a82de8b",
   "metadata": {
    "execution": {
     "iopub.execute_input": "2022-03-24T11:23:03.417563Z",
     "iopub.status.busy": "2022-03-24T11:23:03.416575Z",
     "iopub.status.idle": "2022-03-24T11:23:03.423831Z",
     "shell.execute_reply": "2022-03-24T11:23:03.424414Z"
    },
    "papermill": {
     "duration": 0.038002,
     "end_time": "2022-03-24T11:23:03.424588",
     "exception": false,
     "start_time": "2022-03-24T11:23:03.386586",
     "status": "completed"
    },
    "tags": []
   },
   "outputs": [
    {
     "data": {
      "application/javascript": [
       "parent.postMessage({\"jupyterEvent\": \"custom.exercise_interaction\", \"data\": {\"interactionType\": 3, \"questionType\": 4, \"questionId\": \"3.1_ArithmeticParensEasy\", \"learnToolsVersion\": \"0.3.4\", \"valueTowardsCompletion\": 0.0, \"failureMessage\": \"\", \"exceptionClass\": \"\", \"trace\": \"\", \"outcomeType\": 4}}, \"*\")"
      ],
      "text/plain": [
       "<IPython.core.display.Javascript object>"
      ]
     },
     "metadata": {},
     "output_type": "display_data"
    },
    {
     "data": {
      "text/markdown": [
       "<span style=\"color:#33cc99\">Solution:</span> \n",
       "```python\n",
       "(5 - 3) // 2\n",
       "```"
      ],
      "text/plain": [
       "Solution: \n",
       "```python\n",
       "(5 - 3) // 2\n",
       "```"
      ]
     },
     "metadata": {},
     "output_type": "display_data"
    }
   ],
   "source": [
    "# Check your answer (Run this code cell to receive credit!)\n",
    "q3.a.solution()"
   ]
  },
  {
   "cell_type": "markdown",
   "id": "1ffab47d",
   "metadata": {
    "papermill": {
     "duration": 0.027628,
     "end_time": "2022-03-24T11:23:03.480820",
     "exception": false,
     "start_time": "2022-03-24T11:23:03.453192",
     "status": "completed"
    },
    "tags": []
   },
   "source": [
    "# 3b.  <span title=\"A bit spicy\" style=\"color: darkgreen \">🌶️</span>\n",
    "\n",
    "<small>Questions, like this one, marked a spicy pepper are a bit harder.</small>\n",
    "\n",
    "Add parentheses to the following expression so that it evaluates to 0."
   ]
  },
  {
   "cell_type": "code",
   "execution_count": 13,
   "id": "7002128a",
   "metadata": {
    "execution": {
     "iopub.execute_input": "2022-03-24T11:23:03.540402Z",
     "iopub.status.busy": "2022-03-24T11:23:03.539451Z",
     "iopub.status.idle": "2022-03-24T11:23:03.544808Z",
     "shell.execute_reply": "2022-03-24T11:23:03.545436Z",
     "shell.execute_reply.started": "2022-03-24T11:08:14.814408Z"
    },
    "papermill": {
     "duration": 0.03671,
     "end_time": "2022-03-24T11:23:03.545617",
     "exception": false,
     "start_time": "2022-03-24T11:23:03.508907",
     "status": "completed"
    },
    "tags": []
   },
   "outputs": [
    {
     "data": {
      "text/plain": [
       "0"
      ]
     },
     "execution_count": 13,
     "metadata": {},
     "output_type": "execute_result"
    }
   ],
   "source": [
    "(8 - 3) * (2 - (1 + 1))"
   ]
  },
  {
   "cell_type": "code",
   "execution_count": 14,
   "id": "ebe11791",
   "metadata": {
    "execution": {
     "iopub.execute_input": "2022-03-24T11:23:03.605795Z",
     "iopub.status.busy": "2022-03-24T11:23:03.604851Z",
     "iopub.status.idle": "2022-03-24T11:23:03.608145Z",
     "shell.execute_reply": "2022-03-24T11:23:03.608536Z"
    },
    "papermill": {
     "duration": 0.035103,
     "end_time": "2022-03-24T11:23:03.608713",
     "exception": false,
     "start_time": "2022-03-24T11:23:03.573610",
     "status": "completed"
    },
    "tags": []
   },
   "outputs": [],
   "source": [
    "#q3.b.hint()"
   ]
  },
  {
   "cell_type": "code",
   "execution_count": 15,
   "id": "3da3c2c3",
   "metadata": {
    "execution": {
     "iopub.execute_input": "2022-03-24T11:23:03.667420Z",
     "iopub.status.busy": "2022-03-24T11:23:03.666516Z",
     "iopub.status.idle": "2022-03-24T11:23:03.673828Z",
     "shell.execute_reply": "2022-03-24T11:23:03.674398Z"
    },
    "papermill": {
     "duration": 0.038353,
     "end_time": "2022-03-24T11:23:03.674564",
     "exception": false,
     "start_time": "2022-03-24T11:23:03.636211",
     "status": "completed"
    },
    "tags": []
   },
   "outputs": [
    {
     "data": {
      "application/javascript": [
       "parent.postMessage({\"jupyterEvent\": \"custom.exercise_interaction\", \"data\": {\"interactionType\": 3, \"questionType\": 4, \"questionId\": \"3.2_ArithmeticParensHard\", \"learnToolsVersion\": \"0.3.4\", \"valueTowardsCompletion\": 0.0, \"failureMessage\": \"\", \"exceptionClass\": \"\", \"trace\": \"\", \"outcomeType\": 4}}, \"*\")"
      ],
      "text/plain": [
       "<IPython.core.display.Javascript object>"
      ]
     },
     "metadata": {},
     "output_type": "display_data"
    },
    {
     "data": {
      "text/markdown": [
       "<span style=\"color:#33cc99\">Solution:</span> `(8 - 3) * (2 - (1 + 1))` is one solution. There may be others."
      ],
      "text/plain": [
       "Solution: `(8 - 3) * (2 - (1 + 1))` is one solution. There may be others."
      ]
     },
     "metadata": {},
     "output_type": "display_data"
    }
   ],
   "source": [
    "# Check your answer (Run this code cell to receive credit!)\n",
    "q3.b.solution()"
   ]
  },
  {
   "cell_type": "markdown",
   "id": "50cda799",
   "metadata": {
    "papermill": {
     "duration": 0.028909,
     "end_time": "2022-03-24T11:23:03.731826",
     "exception": false,
     "start_time": "2022-03-24T11:23:03.702917",
     "status": "completed"
    },
    "tags": []
   },
   "source": [
    "<hr/>\n",
    "\n",
    "# 4. \n",
    "Alice, Bob and Carol have agreed to pool their Halloween candy and split it evenly among themselves.\n",
    "For the sake of their friendship, any candies left over will be smashed. For example, if they collectively\n",
    "bring home 91 candies, they'll take 30 each and smash 1.\n",
    "\n",
    "Write an arithmetic expression below to calculate how many candies they must smash for a given haul."
   ]
  },
  {
   "cell_type": "code",
   "execution_count": 16,
   "id": "b8130b7b",
   "metadata": {
    "execution": {
     "iopub.execute_input": "2022-03-24T11:23:03.793231Z",
     "iopub.status.busy": "2022-03-24T11:23:03.792226Z",
     "iopub.status.idle": "2022-03-24T11:23:03.799827Z",
     "shell.execute_reply": "2022-03-24T11:23:03.800302Z",
     "shell.execute_reply.started": "2022-03-24T11:12:35.941393Z"
    },
    "papermill": {
     "duration": 0.039933,
     "end_time": "2022-03-24T11:23:03.800465",
     "exception": false,
     "start_time": "2022-03-24T11:23:03.760532",
     "status": "completed"
    },
    "tags": []
   },
   "outputs": [
    {
     "data": {
      "application/javascript": [
       "parent.postMessage({\"jupyterEvent\": \"custom.exercise_interaction\", \"data\": {\"outcomeType\": 1, \"valueTowardsCompletion\": 0.25, \"interactionType\": 1, \"questionType\": 1, \"questionId\": \"4_CandySplitting\", \"learnToolsVersion\": \"0.3.4\", \"failureMessage\": \"\", \"exceptionClass\": \"\", \"trace\": \"\"}}, \"*\")"
      ],
      "text/plain": [
       "<IPython.core.display.Javascript object>"
      ]
     },
     "metadata": {},
     "output_type": "display_data"
    },
    {
     "data": {
      "text/markdown": [
       "<span style=\"color:#33cc33\">Correct</span>"
      ],
      "text/plain": [
       "Correct"
      ]
     },
     "metadata": {},
     "output_type": "display_data"
    }
   ],
   "source": [
    "# Variables representing the number of candies collected by alice, bob, and carol\n",
    "alice_candies = 121\n",
    "bob_candies = 77\n",
    "carol_candies = 109\n",
    "\n",
    "# Your code goes here! Replace the right-hand side of this assignment with an expression\n",
    "total_candies = alice_candies + bob_candies + carol_candies\n",
    "\n",
    "# involving alice_candies, bob_candies, and carol_candies\n",
    "to_smash = total_candies % 3\n",
    "\n",
    "# Check your answer\n",
    "q4.check()"
   ]
  },
  {
   "cell_type": "code",
   "execution_count": null,
   "id": "e6a39e3b",
   "metadata": {
    "papermill": {
     "duration": 0.029179,
     "end_time": "2022-03-24T11:23:03.858967",
     "exception": false,
     "start_time": "2022-03-24T11:23:03.829788",
     "status": "completed"
    },
    "tags": []
   },
   "outputs": [],
   "source": []
  },
  {
   "cell_type": "code",
   "execution_count": 17,
   "id": "f33b01f3",
   "metadata": {
    "execution": {
     "iopub.execute_input": "2022-03-24T11:23:03.921813Z",
     "iopub.status.busy": "2022-03-24T11:23:03.921003Z",
     "iopub.status.idle": "2022-03-24T11:23:03.923685Z",
     "shell.execute_reply": "2022-03-24T11:23:03.924101Z"
    },
    "papermill": {
     "duration": 0.035553,
     "end_time": "2022-03-24T11:23:03.924264",
     "exception": false,
     "start_time": "2022-03-24T11:23:03.888711",
     "status": "completed"
    },
    "tags": []
   },
   "outputs": [],
   "source": [
    "#q4.hint()\n",
    "#q4.solution()"
   ]
  },
  {
   "cell_type": "markdown",
   "id": "caa2a067",
   "metadata": {
    "papermill": {
     "duration": 0.035932,
     "end_time": "2022-03-24T11:23:03.995075",
     "exception": false,
     "start_time": "2022-03-24T11:23:03.959143",
     "status": "completed"
    },
    "tags": []
   },
   "source": [
    "# Keep Going\n",
    "\n",
    "Next up, you'll **[learn to write new functions and understand functions others write](https://www.kaggle.com/colinmorris/functions-and-getting-help)**. This will make you at least 10 times more productive as a Python programmer. "
   ]
  },
  {
   "cell_type": "markdown",
   "id": "76798cb4",
   "metadata": {
    "papermill": {
     "duration": 0.036223,
     "end_time": "2022-03-24T11:23:04.072842",
     "exception": false,
     "start_time": "2022-03-24T11:23:04.036619",
     "status": "completed"
    },
    "tags": []
   },
   "source": [
    "---\n",
    "\n",
    "\n",
    "\n",
    "\n",
    "*Have questions or comments? Visit the [course discussion forum](https://www.kaggle.com/learn/python/discussion) to chat with other learners.*"
   ]
  }
 ],
 "metadata": {
  "kernelspec": {
   "display_name": "Python 3",
   "language": "python",
   "name": "python3"
  },
  "language_info": {
   "codemirror_mode": {
    "name": "ipython",
    "version": 3
   },
   "file_extension": ".py",
   "mimetype": "text/x-python",
   "name": "python",
   "nbconvert_exporter": "python",
   "pygments_lexer": "ipython3",
   "version": "3.7.12"
  },
  "papermill": {
   "default_parameters": {},
   "duration": 11.508223,
   "end_time": "2022-03-24T11:23:04.714194",
   "environment_variables": {},
   "exception": null,
   "input_path": "__notebook__.ipynb",
   "output_path": "__notebook__.ipynb",
   "parameters": {},
   "start_time": "2022-03-24T11:22:53.205971",
   "version": "2.3.3"
  }
 },
 "nbformat": 4,
 "nbformat_minor": 5
}
