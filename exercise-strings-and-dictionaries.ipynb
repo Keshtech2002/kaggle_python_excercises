{
 "cells": [
  {
   "cell_type": "markdown",
   "id": "badd959b",
   "metadata": {
    "papermill": {
     "duration": 0.022484,
     "end_time": "2022-03-28T14:55:38.228760",
     "exception": false,
     "start_time": "2022-03-28T14:55:38.206276",
     "status": "completed"
    },
    "tags": []
   },
   "source": [
    "**This notebook is an exercise in the [Python](https://www.kaggle.com/learn/python) course.  You can reference the tutorial at [this link](https://www.kaggle.com/colinmorris/strings-and-dictionaries).**\n",
    "\n",
    "---\n"
   ]
  },
  {
   "cell_type": "markdown",
   "id": "8a8c6298",
   "metadata": {
    "papermill": {
     "duration": 0.019831,
     "end_time": "2022-03-28T14:55:38.270862",
     "exception": false,
     "start_time": "2022-03-28T14:55:38.251031",
     "status": "completed"
    },
    "tags": []
   },
   "source": [
    "You are almost done with the course. Nice job!\n",
    "\n",
    "We have a couple more interesting problems for you before you go. \n",
    "\n",
    "As always, run the setup code below before working on the questions."
   ]
  },
  {
   "cell_type": "code",
   "execution_count": 1,
   "id": "2f92f629",
   "metadata": {
    "execution": {
     "iopub.execute_input": "2022-03-28T14:55:38.316064Z",
     "iopub.status.busy": "2022-03-28T14:55:38.314880Z",
     "iopub.status.idle": "2022-03-28T14:55:38.372707Z",
     "shell.execute_reply": "2022-03-28T14:55:38.373257Z",
     "shell.execute_reply.started": "2022-03-28T14:48:59.515255Z"
    },
    "papermill": {
     "duration": 0.082705,
     "end_time": "2022-03-28T14:55:38.373561",
     "exception": false,
     "start_time": "2022-03-28T14:55:38.290856",
     "status": "completed"
    },
    "tags": []
   },
   "outputs": [
    {
     "name": "stdout",
     "output_type": "stream",
     "text": [
      "Setup complete.\n"
     ]
    }
   ],
   "source": [
    "from learntools.core import binder; binder.bind(globals())\n",
    "from learntools.python.ex6 import *\n",
    "print('Setup complete.')"
   ]
  },
  {
   "cell_type": "markdown",
   "id": "fc229130",
   "metadata": {
    "papermill": {
     "duration": 0.020525,
     "end_time": "2022-03-28T14:55:38.417931",
     "exception": false,
     "start_time": "2022-03-28T14:55:38.397406",
     "status": "completed"
    },
    "tags": []
   },
   "source": [
    "Let's start with a string lightning round to warm up. What are the lengths of the strings below?\n",
    "\n",
    "For each of the five strings below, predict what `len()` would return when passed that string. Use the variable `length` to record your answer, then run the cell to check whether you were right.  \n",
    "\n",
    "# 0a."
   ]
  },
  {
   "cell_type": "code",
   "execution_count": 2,
   "id": "3983034e",
   "metadata": {
    "execution": {
     "iopub.execute_input": "2022-03-28T14:55:38.464254Z",
     "iopub.status.busy": "2022-03-28T14:55:38.463242Z",
     "iopub.status.idle": "2022-03-28T14:55:38.474799Z",
     "shell.execute_reply": "2022-03-28T14:55:38.475331Z",
     "shell.execute_reply.started": "2022-03-28T14:48:59.524189Z"
    },
    "papermill": {
     "duration": 0.036671,
     "end_time": "2022-03-28T14:55:38.475509",
     "exception": false,
     "start_time": "2022-03-28T14:55:38.438838",
     "status": "completed"
    },
    "tags": []
   },
   "outputs": [
    {
     "data": {
      "application/javascript": [
       "parent.postMessage({\"jupyterEvent\": \"custom.exercise_interaction\", \"data\": {\"outcomeType\": 1, \"valueTowardsCompletion\": 0.3333333333333333, \"interactionType\": 1, \"questionType\": 1, \"questionId\": \"0.1_ZA\", \"learnToolsVersion\": \"0.3.4\", \"failureMessage\": \"\", \"exceptionClass\": \"\", \"trace\": \"\"}}, \"*\")"
      ],
      "text/plain": [
       "<IPython.core.display.Javascript object>"
      ]
     },
     "metadata": {},
     "output_type": "display_data"
    },
    {
     "data": {
      "text/markdown": [
       "<span style=\"color:#33cc33\">Correct:</span> \n",
       "\n",
       "The empty string has length zero. Note that the empty string is also the only string that Python considers as False when converting to boolean."
      ],
      "text/plain": [
       "Correct: \n",
       "\n",
       "The empty string has length zero. Note that the empty string is also the only string that Python considers as False when converting to boolean."
      ]
     },
     "metadata": {},
     "output_type": "display_data"
    }
   ],
   "source": [
    "a = \"\"\n",
    "length = 0\n",
    "q0.a.check()"
   ]
  },
  {
   "cell_type": "markdown",
   "id": "1f37a170",
   "metadata": {
    "papermill": {
     "duration": 0.021551,
     "end_time": "2022-03-28T14:55:38.519211",
     "exception": false,
     "start_time": "2022-03-28T14:55:38.497660",
     "status": "completed"
    },
    "tags": []
   },
   "source": [
    "# 0b."
   ]
  },
  {
   "cell_type": "code",
   "execution_count": 3,
   "id": "20ff111e",
   "metadata": {
    "execution": {
     "iopub.execute_input": "2022-03-28T14:55:38.566507Z",
     "iopub.status.busy": "2022-03-28T14:55:38.565498Z",
     "iopub.status.idle": "2022-03-28T14:55:38.573014Z",
     "shell.execute_reply": "2022-03-28T14:55:38.573542Z",
     "shell.execute_reply.started": "2022-03-28T14:48:59.540804Z"
    },
    "papermill": {
     "duration": 0.032716,
     "end_time": "2022-03-28T14:55:38.573731",
     "exception": false,
     "start_time": "2022-03-28T14:55:38.541015",
     "status": "completed"
    },
    "tags": []
   },
   "outputs": [
    {
     "data": {
      "application/javascript": [
       "parent.postMessage({\"jupyterEvent\": \"custom.exercise_interaction\", \"data\": {\"outcomeType\": 1, \"valueTowardsCompletion\": 0.3333333333333333, \"interactionType\": 1, \"questionType\": 1, \"questionId\": \"0.2_ZB\", \"learnToolsVersion\": \"0.3.4\", \"failureMessage\": \"\", \"exceptionClass\": \"\", \"trace\": \"\"}}, \"*\")"
      ],
      "text/plain": [
       "<IPython.core.display.Javascript object>"
      ]
     },
     "metadata": {},
     "output_type": "display_data"
    },
    {
     "data": {
      "text/markdown": [
       "<span style=\"color:#33cc33\">Correct:</span> \n",
       "\n",
       "Keep in mind Python includes spaces (and punctuation) when counting string length."
      ],
      "text/plain": [
       "Correct: \n",
       "\n",
       "Keep in mind Python includes spaces (and punctuation) when counting string length."
      ]
     },
     "metadata": {},
     "output_type": "display_data"
    }
   ],
   "source": [
    "b = \"it's ok\"\n",
    "length = 7\n",
    "q0.b.check()"
   ]
  },
  {
   "cell_type": "markdown",
   "id": "26e9080e",
   "metadata": {
    "papermill": {
     "duration": 0.02268,
     "end_time": "2022-03-28T14:55:38.619432",
     "exception": false,
     "start_time": "2022-03-28T14:55:38.596752",
     "status": "completed"
    },
    "tags": []
   },
   "source": [
    "# 0c."
   ]
  },
  {
   "cell_type": "code",
   "execution_count": 4,
   "id": "b3fb5b06",
   "metadata": {
    "execution": {
     "iopub.execute_input": "2022-03-28T14:55:38.669394Z",
     "iopub.status.busy": "2022-03-28T14:55:38.668386Z",
     "iopub.status.idle": "2022-03-28T14:55:38.676060Z",
     "shell.execute_reply": "2022-03-28T14:55:38.676579Z",
     "shell.execute_reply.started": "2022-03-28T14:48:59.555748Z"
    },
    "papermill": {
     "duration": 0.034289,
     "end_time": "2022-03-28T14:55:38.676769",
     "exception": false,
     "start_time": "2022-03-28T14:55:38.642480",
     "status": "completed"
    },
    "tags": []
   },
   "outputs": [
    {
     "data": {
      "application/javascript": [
       "parent.postMessage({\"jupyterEvent\": \"custom.exercise_interaction\", \"data\": {\"outcomeType\": 1, \"valueTowardsCompletion\": 0.3333333333333333, \"interactionType\": 1, \"questionType\": 1, \"questionId\": \"0.3_ZC\", \"learnToolsVersion\": \"0.3.4\", \"failureMessage\": \"\", \"exceptionClass\": \"\", \"trace\": \"\"}}, \"*\")"
      ],
      "text/plain": [
       "<IPython.core.display.Javascript object>"
      ]
     },
     "metadata": {},
     "output_type": "display_data"
    },
    {
     "data": {
      "text/markdown": [
       "<span style=\"color:#33cc33\">Correct:</span> \n",
       "\n",
       "Even though we use different syntax to create it, the string `c` is identical to `b`. In particular, note that the backslash is not part of the string, so it doesn't contribute to its length."
      ],
      "text/plain": [
       "Correct: \n",
       "\n",
       "Even though we use different syntax to create it, the string `c` is identical to `b`. In particular, note that the backslash is not part of the string, so it doesn't contribute to its length."
      ]
     },
     "metadata": {},
     "output_type": "display_data"
    }
   ],
   "source": [
    "c = 'it\\'s ok'\n",
    "length = 7\n",
    "q0.c.check()"
   ]
  },
  {
   "cell_type": "markdown",
   "id": "b3847fd9",
   "metadata": {
    "papermill": {
     "duration": 0.024394,
     "end_time": "2022-03-28T14:55:38.726202",
     "exception": false,
     "start_time": "2022-03-28T14:55:38.701808",
     "status": "completed"
    },
    "tags": []
   },
   "source": [
    "# 0d."
   ]
  },
  {
   "cell_type": "code",
   "execution_count": 5,
   "id": "972b1b85",
   "metadata": {
    "execution": {
     "iopub.execute_input": "2022-03-28T14:55:38.782343Z",
     "iopub.status.busy": "2022-03-28T14:55:38.781299Z",
     "iopub.status.idle": "2022-03-28T14:55:38.789765Z",
     "shell.execute_reply": "2022-03-28T14:55:38.790222Z",
     "shell.execute_reply.started": "2022-03-28T14:48:59.565935Z"
    },
    "papermill": {
     "duration": 0.039086,
     "end_time": "2022-03-28T14:55:38.790419",
     "exception": false,
     "start_time": "2022-03-28T14:55:38.751333",
     "status": "completed"
    },
    "tags": []
   },
   "outputs": [
    {
     "data": {
      "application/javascript": [
       "parent.postMessage({\"jupyterEvent\": \"custom.exercise_interaction\", \"data\": {\"outcomeType\": 1, \"valueTowardsCompletion\": 0.3333333333333333, \"interactionType\": 1, \"questionType\": 1, \"questionId\": \"0.4_ZD\", \"learnToolsVersion\": \"0.3.4\", \"failureMessage\": \"\", \"exceptionClass\": \"\", \"trace\": \"\"}}, \"*\")"
      ],
      "text/plain": [
       "<IPython.core.display.Javascript object>"
      ]
     },
     "metadata": {},
     "output_type": "display_data"
    },
    {
     "data": {
      "text/markdown": [
       "<span style=\"color:#33cc33\">Correct:</span> \n",
       "\n",
       "The fact that this string was created using triple-quote syntax doesn't make any difference in terms of its content or length. This string is exactly the same as `'hey'`."
      ],
      "text/plain": [
       "Correct: \n",
       "\n",
       "The fact that this string was created using triple-quote syntax doesn't make any difference in terms of its content or length. This string is exactly the same as `'hey'`."
      ]
     },
     "metadata": {},
     "output_type": "display_data"
    }
   ],
   "source": [
    "d = \"\"\"hey\"\"\"\n",
    "length = 3\n",
    "q0.d.check()"
   ]
  },
  {
   "cell_type": "markdown",
   "id": "2283b675",
   "metadata": {
    "papermill": {
     "duration": 0.025482,
     "end_time": "2022-03-28T14:55:38.841548",
     "exception": false,
     "start_time": "2022-03-28T14:55:38.816066",
     "status": "completed"
    },
    "tags": []
   },
   "source": [
    "# 0e."
   ]
  },
  {
   "cell_type": "code",
   "execution_count": 6,
   "id": "5a0aa22c",
   "metadata": {
    "execution": {
     "iopub.execute_input": "2022-03-28T14:55:38.898017Z",
     "iopub.status.busy": "2022-03-28T14:55:38.896967Z",
     "iopub.status.idle": "2022-03-28T14:55:38.905002Z",
     "shell.execute_reply": "2022-03-28T14:55:38.905673Z",
     "shell.execute_reply.started": "2022-03-28T14:48:59.579865Z"
    },
    "papermill": {
     "duration": 0.038404,
     "end_time": "2022-03-28T14:55:38.905877",
     "exception": false,
     "start_time": "2022-03-28T14:55:38.867473",
     "status": "completed"
    },
    "tags": []
   },
   "outputs": [
    {
     "data": {
      "application/javascript": [
       "parent.postMessage({\"jupyterEvent\": \"custom.exercise_interaction\", \"data\": {\"outcomeType\": 1, \"valueTowardsCompletion\": 0.3333333333333333, \"interactionType\": 1, \"questionType\": 1, \"questionId\": \"0.5_ZE\", \"learnToolsVersion\": \"0.3.4\", \"failureMessage\": \"\", \"exceptionClass\": \"\", \"trace\": \"\"}}, \"*\")"
      ],
      "text/plain": [
       "<IPython.core.display.Javascript object>"
      ]
     },
     "metadata": {},
     "output_type": "display_data"
    },
    {
     "data": {
      "text/markdown": [
       "<span style=\"color:#33cc33\">Correct:</span> \n",
       "\n",
       "The newline character is just a single character! (Even though we represent it to Python using a combination of two characters.)"
      ],
      "text/plain": [
       "Correct: \n",
       "\n",
       "The newline character is just a single character! (Even though we represent it to Python using a combination of two characters.)"
      ]
     },
     "metadata": {},
     "output_type": "display_data"
    }
   ],
   "source": [
    "e = '\\n'\n",
    "length = 1\n",
    "q0.e.check()"
   ]
  },
  {
   "cell_type": "markdown",
   "id": "eb21585c",
   "metadata": {
    "papermill": {
     "duration": 0.026981,
     "end_time": "2022-03-28T14:55:38.960171",
     "exception": false,
     "start_time": "2022-03-28T14:55:38.933190",
     "status": "completed"
    },
    "tags": []
   },
   "source": [
    "# 1.\n",
    "\n",
    "There is a saying that \"Data scientists spend 80% of their time cleaning data, and 20% of their time complaining about cleaning data.\" Let's see if you can write a function to help clean US zip code data. Given a string, it should return whether or not that string represents a valid zip code. For our purposes, a valid zip code is any string consisting of exactly 5 digits.\n",
    "\n",
    "HINT: `str` has a method that will be useful here. Use `help(str)` to review a list of string methods."
   ]
  },
  {
   "cell_type": "code",
   "execution_count": 7,
   "id": "befabdcc",
   "metadata": {
    "execution": {
     "iopub.execute_input": "2022-03-28T14:55:39.018973Z",
     "iopub.status.busy": "2022-03-28T14:55:39.017849Z",
     "iopub.status.idle": "2022-03-28T14:55:39.026761Z",
     "shell.execute_reply": "2022-03-28T14:55:39.027392Z",
     "shell.execute_reply.started": "2022-03-28T14:48:59.594043Z"
    },
    "papermill": {
     "duration": 0.040266,
     "end_time": "2022-03-28T14:55:39.027586",
     "exception": false,
     "start_time": "2022-03-28T14:55:38.987320",
     "status": "completed"
    },
    "tags": []
   },
   "outputs": [
    {
     "data": {
      "application/javascript": [
       "parent.postMessage({\"jupyterEvent\": \"custom.exercise_interaction\", \"data\": {\"outcomeType\": 1, \"valueTowardsCompletion\": 0.3333333333333333, \"interactionType\": 1, \"questionType\": 2, \"questionId\": \"1_ZipValidator\", \"learnToolsVersion\": \"0.3.4\", \"failureMessage\": \"\", \"exceptionClass\": \"\", \"trace\": \"\"}}, \"*\")"
      ],
      "text/plain": [
       "<IPython.core.display.Javascript object>"
      ]
     },
     "metadata": {},
     "output_type": "display_data"
    },
    {
     "data": {
      "text/markdown": [
       "<span style=\"color:#33cc33\">Correct</span>"
      ],
      "text/plain": [
       "Correct"
      ]
     },
     "metadata": {},
     "output_type": "display_data"
    }
   ],
   "source": [
    "def is_valid_zip(zip_code):\n",
    "    \"\"\"Returns whether the input string is a valid (5 digit) zip code\n",
    "    \"\"\"\n",
    "    \n",
    "    return len(zip_code) == 5 and zip_code.isdigit()\n",
    "\n",
    "# Check your answer\n",
    "q1.check()"
   ]
  },
  {
   "cell_type": "code",
   "execution_count": 8,
   "id": "dbb4c8e5",
   "metadata": {
    "execution": {
     "iopub.execute_input": "2022-03-28T14:55:39.089298Z",
     "iopub.status.busy": "2022-03-28T14:55:39.088200Z",
     "iopub.status.idle": "2022-03-28T14:55:39.091629Z",
     "shell.execute_reply": "2022-03-28T14:55:39.092257Z",
     "shell.execute_reply.started": "2022-03-28T14:48:59.606031Z"
    },
    "papermill": {
     "duration": 0.03633,
     "end_time": "2022-03-28T14:55:39.092449",
     "exception": false,
     "start_time": "2022-03-28T14:55:39.056119",
     "status": "completed"
    },
    "tags": []
   },
   "outputs": [],
   "source": [
    "# q1.hint()\n",
    "# q1.solution()"
   ]
  },
  {
   "cell_type": "markdown",
   "id": "ad3b4b2c",
   "metadata": {
    "papermill": {
     "duration": 0.029989,
     "end_time": "2022-03-28T14:55:39.151229",
     "exception": false,
     "start_time": "2022-03-28T14:55:39.121240",
     "status": "completed"
    },
    "tags": []
   },
   "source": [
    "# 2.\n",
    "\n",
    "A researcher has gathered thousands of news articles. But she wants to focus her attention on articles including a specific word. Complete the function below to help her filter her list of articles.\n",
    "\n",
    "Your function should meet the following criteria:\n",
    "\n",
    "- Do not include documents where the keyword string shows up only as a part of a larger word. For example, if she were looking for the keyword “closed”, you would not include the string “enclosed.” \n",
    "- She does not want you to distinguish upper case from lower case letters. So the phrase “Closed the case.” would be included when the keyword is “closed”\n",
    "- Do not let periods or commas affect what is matched. “It is closed.” would be included when the keyword is “closed”. But you can assume there are no other types of punctuation."
   ]
  },
  {
   "cell_type": "code",
   "execution_count": 9,
   "id": "dddb249b",
   "metadata": {
    "execution": {
     "iopub.execute_input": "2022-03-28T14:55:39.212635Z",
     "iopub.status.busy": "2022-03-28T14:55:39.211540Z",
     "iopub.status.idle": "2022-03-28T14:55:39.223276Z",
     "shell.execute_reply": "2022-03-28T14:55:39.223785Z",
     "shell.execute_reply.started": "2022-03-28T14:48:59.612482Z"
    },
    "papermill": {
     "duration": 0.04418,
     "end_time": "2022-03-28T14:55:39.223976",
     "exception": false,
     "start_time": "2022-03-28T14:55:39.179796",
     "status": "completed"
    },
    "tags": []
   },
   "outputs": [
    {
     "data": {
      "application/javascript": [
       "parent.postMessage({\"jupyterEvent\": \"custom.exercise_interaction\", \"data\": {\"outcomeType\": 1, \"valueTowardsCompletion\": 0.3333333333333333, \"interactionType\": 1, \"questionType\": 2, \"questionId\": \"2_WordSearch\", \"learnToolsVersion\": \"0.3.4\", \"failureMessage\": \"\", \"exceptionClass\": \"\", \"trace\": \"\"}}, \"*\")"
      ],
      "text/plain": [
       "<IPython.core.display.Javascript object>"
      ]
     },
     "metadata": {},
     "output_type": "display_data"
    },
    {
     "data": {
      "text/markdown": [
       "<span style=\"color:#33cc33\">Correct</span>"
      ],
      "text/plain": [
       "Correct"
      ]
     },
     "metadata": {},
     "output_type": "display_data"
    }
   ],
   "source": [
    "def word_search(doc_list, keyword):\n",
    "    \"\"\"\n",
    "    Takes a list of documents (each document is a string) and a keyword. \n",
    "    Returns list of the index values into the original list for all documents \n",
    "    containing the keyword.\n",
    "\n",
    "    Example:\n",
    "    doc_list = [\"The Learn Python Challenge Casino.\", \"They bought a car\", \"Casinoville\"]\n",
    "    >>> word_search(doc_list, 'casino')\n",
    "    >>> [0]\n",
    "    \"\"\"\n",
    "    \n",
    "    index_values = [] \n",
    "    # Iterate through the indices (i) and elements (doc) of documents\n",
    "    for i, doc in enumerate(doc_list):\n",
    "        # Split the string doc into a list of words (according to whitespace)\n",
    "        tokens = doc.split()\n",
    "        # Make a transformed list where we 'normalize' each word to facilitate matching.\n",
    "        # Periods and commas are removed from the end of each word, and it's set to all lowercase.\n",
    "        normalized = [token.rstrip('.,').lower() for token in tokens]\n",
    "        # Is there a match? If so, update the list of matching indices.\n",
    "        if keyword.lower() in normalized:\n",
    "            index_values.append(i)\n",
    "    return index_values\n",
    "# Check your answer\n",
    "q2.check()"
   ]
  },
  {
   "cell_type": "code",
   "execution_count": 10,
   "id": "5785cb6e",
   "metadata": {
    "execution": {
     "iopub.execute_input": "2022-03-28T14:55:39.290002Z",
     "iopub.status.busy": "2022-03-28T14:55:39.288866Z",
     "iopub.status.idle": "2022-03-28T14:55:39.291048Z",
     "shell.execute_reply": "2022-03-28T14:55:39.291639Z",
     "shell.execute_reply.started": "2022-03-28T14:48:59.629010Z"
    },
    "papermill": {
     "duration": 0.038474,
     "end_time": "2022-03-28T14:55:39.291843",
     "exception": false,
     "start_time": "2022-03-28T14:55:39.253369",
     "status": "completed"
    },
    "tags": []
   },
   "outputs": [],
   "source": [
    "# q2.hint()\n",
    "# q2.solution()"
   ]
  },
  {
   "cell_type": "markdown",
   "id": "b75ce6a5",
   "metadata": {
    "papermill": {
     "duration": 0.029482,
     "end_time": "2022-03-28T14:55:39.351389",
     "exception": false,
     "start_time": "2022-03-28T14:55:39.321907",
     "status": "completed"
    },
    "tags": []
   },
   "source": [
    "# 3.\n",
    "\n",
    "Now the researcher wants to supply multiple keywords to search for. Complete the function below to help her.\n",
    "\n",
    "(You're encouraged to use the `word_search` function you just wrote when implementing this function. Reusing code in this way makes your programs more robust and readable - and it saves typing!)"
   ]
  },
  {
   "cell_type": "code",
   "execution_count": 11,
   "id": "2fee2d7b",
   "metadata": {
    "execution": {
     "iopub.execute_input": "2022-03-28T14:55:39.420511Z",
     "iopub.status.busy": "2022-03-28T14:55:39.419397Z",
     "iopub.status.idle": "2022-03-28T14:55:39.425310Z",
     "shell.execute_reply": "2022-03-28T14:55:39.425925Z",
     "shell.execute_reply.started": "2022-03-28T14:48:59.644305Z"
    },
    "papermill": {
     "duration": 0.043721,
     "end_time": "2022-03-28T14:55:39.426119",
     "exception": false,
     "start_time": "2022-03-28T14:55:39.382398",
     "status": "completed"
    },
    "tags": []
   },
   "outputs": [
    {
     "data": {
      "application/javascript": [
       "parent.postMessage({\"jupyterEvent\": \"custom.exercise_interaction\", \"data\": {\"outcomeType\": 1, \"valueTowardsCompletion\": 0.3333333333333333, \"interactionType\": 1, \"questionType\": 2, \"questionId\": \"3_MultiWordSearch\", \"learnToolsVersion\": \"0.3.4\", \"failureMessage\": \"\", \"exceptionClass\": \"\", \"trace\": \"\"}}, \"*\")"
      ],
      "text/plain": [
       "<IPython.core.display.Javascript object>"
      ]
     },
     "metadata": {},
     "output_type": "display_data"
    },
    {
     "data": {
      "text/markdown": [
       "<span style=\"color:#33cc33\">Correct</span>"
      ],
      "text/plain": [
       "Correct"
      ]
     },
     "metadata": {},
     "output_type": "display_data"
    }
   ],
   "source": [
    "def multi_word_search(doc_list, keywords):\n",
    "    \"\"\"\n",
    "    Takes list of documents (each document is a string) and a list of keywords.  \n",
    "    Returns a dictionary where each key is a keyword, and the value is a list of indices\n",
    "    (from doc_list) of the documents containing that keyword\n",
    "\n",
    "    >>> doc_list = [\"The Learn Python Challenge Casino.\", \"They bought a car and a casino\", \"Casinoville\"]\n",
    "    >>> keywords = ['casino', 'they']\n",
    "    >>> multi_word_search(doc_list, keywords)\n",
    "    {'casino': [0, 1], 'they': [1]}\n",
    "    \"\"\"\n",
    "    keyword_to_indices = {}\n",
    "    for keyword in keywords:\n",
    "        keyword_to_indices[keyword] = word_search(doc_list, keyword)\n",
    "    return keyword_to_indices\n",
    "\n",
    "# Check your answer\n",
    "q3.check()"
   ]
  },
  {
   "cell_type": "code",
   "execution_count": 12,
   "id": "83fe490f",
   "metadata": {
    "execution": {
     "iopub.execute_input": "2022-03-28T14:55:39.493859Z",
     "iopub.status.busy": "2022-03-28T14:55:39.492401Z",
     "iopub.status.idle": "2022-03-28T14:55:39.497423Z",
     "shell.execute_reply": "2022-03-28T14:55:39.498121Z",
     "shell.execute_reply.started": "2022-03-28T14:48:59.660816Z"
    },
    "papermill": {
     "duration": 0.041587,
     "end_time": "2022-03-28T14:55:39.498352",
     "exception": false,
     "start_time": "2022-03-28T14:55:39.456765",
     "status": "completed"
    },
    "tags": []
   },
   "outputs": [],
   "source": [
    "# q3.solution()"
   ]
  },
  {
   "cell_type": "markdown",
   "id": "58dc6887",
   "metadata": {
    "papermill": {
     "duration": 0.031171,
     "end_time": "2022-03-28T14:55:39.562340",
     "exception": false,
     "start_time": "2022-03-28T14:55:39.531169",
     "status": "completed"
    },
    "tags": []
   },
   "source": [
    "# Keep Going\n",
    "\n",
    "You've learned a lot. But even the best programmers rely heavily on \"libraries\" of code from other programmers. You'll learn about that in **[the last lesson](https://www.kaggle.com/colinmorris/working-with-external-libraries)**.\n"
   ]
  },
  {
   "cell_type": "markdown",
   "id": "7bcf8a66",
   "metadata": {
    "papermill": {
     "duration": 0.030492,
     "end_time": "2022-03-28T14:55:39.623841",
     "exception": false,
     "start_time": "2022-03-28T14:55:39.593349",
     "status": "completed"
    },
    "tags": []
   },
   "source": [
    "---\n",
    "\n",
    "\n",
    "\n",
    "\n",
    "*Have questions or comments? Visit the [course discussion forum](https://www.kaggle.com/learn/python/discussion) to chat with other learners.*"
   ]
  }
 ],
 "metadata": {
  "kernelspec": {
   "display_name": "Python 3",
   "language": "python",
   "name": "python3"
  },
  "language_info": {
   "codemirror_mode": {
    "name": "ipython",
    "version": 3
   },
   "file_extension": ".py",
   "mimetype": "text/x-python",
   "name": "python",
   "nbconvert_exporter": "python",
   "pygments_lexer": "ipython3",
   "version": "3.7.12"
  },
  "papermill": {
   "default_parameters": {},
   "duration": 12.916122,
   "end_time": "2022-03-28T14:55:40.567297",
   "environment_variables": {},
   "exception": null,
   "input_path": "__notebook__.ipynb",
   "output_path": "__notebook__.ipynb",
   "parameters": {},
   "start_time": "2022-03-28T14:55:27.651175",
   "version": "2.3.3"
  }
 },
 "nbformat": 4,
 "nbformat_minor": 5
}
