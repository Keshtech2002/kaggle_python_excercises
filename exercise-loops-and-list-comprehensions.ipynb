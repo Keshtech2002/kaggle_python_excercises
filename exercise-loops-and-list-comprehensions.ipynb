{
 "cells": [
  {
   "cell_type": "markdown",
   "id": "8aad871b",
   "metadata": {
    "papermill": {
     "duration": 0.022085,
     "end_time": "2022-03-28T11:47:14.803836",
     "exception": false,
     "start_time": "2022-03-28T11:47:14.781751",
     "status": "completed"
    },
    "tags": []
   },
   "source": [
    "**This notebook is an exercise in the [Python](https://www.kaggle.com/learn/python) course.  You can reference the tutorial at [this link](https://www.kaggle.com/colinmorris/loops-and-list-comprehensions).**\n",
    "\n",
    "---\n"
   ]
  },
  {
   "cell_type": "markdown",
   "id": "a52c476a",
   "metadata": {
    "papermill": {
     "duration": 0.01997,
     "end_time": "2022-03-28T11:47:14.846000",
     "exception": false,
     "start_time": "2022-03-28T11:47:14.826030",
     "status": "completed"
    },
    "tags": []
   },
   "source": [
    "With all you've learned, you can start writing much more interesting programs. See if you can solve the problems below.\n",
    "\n",
    "As always, run the setup code below before working on the questions."
   ]
  },
  {
   "cell_type": "code",
   "execution_count": 1,
   "id": "97a68dc5",
   "metadata": {
    "execution": {
     "iopub.execute_input": "2022-03-28T11:47:14.891057Z",
     "iopub.status.busy": "2022-03-28T11:47:14.889871Z",
     "iopub.status.idle": "2022-03-28T11:47:14.944320Z",
     "shell.execute_reply": "2022-03-28T11:47:14.944837Z",
     "shell.execute_reply.started": "2022-03-28T11:46:03.175609Z"
    },
    "papermill": {
     "duration": 0.079024,
     "end_time": "2022-03-28T11:47:14.945135",
     "exception": false,
     "start_time": "2022-03-28T11:47:14.866111",
     "status": "completed"
    },
    "tags": []
   },
   "outputs": [
    {
     "name": "stdout",
     "output_type": "stream",
     "text": [
      "Setup complete.\n"
     ]
    }
   ],
   "source": [
    "from learntools.core import binder; binder.bind(globals())\n",
    "from learntools.python.ex5 import *\n",
    "print('Setup complete.')"
   ]
  },
  {
   "cell_type": "markdown",
   "id": "aff6d83d",
   "metadata": {
    "papermill": {
     "duration": 0.020735,
     "end_time": "2022-03-28T11:47:14.987162",
     "exception": false,
     "start_time": "2022-03-28T11:47:14.966427",
     "status": "completed"
    },
    "tags": []
   },
   "source": [
    "# 1.\n",
    "\n",
    "Have you ever felt debugging involved a bit of luck? The following program has a bug. Try to identify the bug and fix it."
   ]
  },
  {
   "cell_type": "code",
   "execution_count": 2,
   "id": "49aa6cd2",
   "metadata": {
    "execution": {
     "iopub.execute_input": "2022-03-28T11:47:15.032047Z",
     "iopub.status.busy": "2022-03-28T11:47:15.031325Z",
     "iopub.status.idle": "2022-03-28T11:47:15.036604Z",
     "shell.execute_reply": "2022-03-28T11:47:15.035927Z",
     "shell.execute_reply.started": "2022-03-28T11:46:03.183479Z"
    },
    "papermill": {
     "duration": 0.028943,
     "end_time": "2022-03-28T11:47:15.036757",
     "exception": false,
     "start_time": "2022-03-28T11:47:15.007814",
     "status": "completed"
    },
    "tags": []
   },
   "outputs": [],
   "source": [
    "def has_lucky_number(nums):\n",
    "    \"\"\"Return whether the given list of numbers is lucky. A lucky list contains\n",
    "    at least one number divisible by 7.\n",
    "    \"\"\"\n",
    "    for num in nums:\n",
    "        if num % 7 == 0:\n",
    "            return True\n",
    "        else:\n",
    "            return False"
   ]
  },
  {
   "cell_type": "markdown",
   "id": "dffd9590",
   "metadata": {
    "papermill": {
     "duration": 0.020571,
     "end_time": "2022-03-28T11:47:15.078545",
     "exception": false,
     "start_time": "2022-03-28T11:47:15.057974",
     "status": "completed"
    },
    "tags": []
   },
   "source": [
    "Try to identify the bug and fix it in the cell below:"
   ]
  },
  {
   "cell_type": "code",
   "execution_count": 3,
   "id": "3b0f61ea",
   "metadata": {
    "execution": {
     "iopub.execute_input": "2022-03-28T11:47:15.129598Z",
     "iopub.status.busy": "2022-03-28T11:47:15.128645Z",
     "iopub.status.idle": "2022-03-28T11:47:15.134339Z",
     "shell.execute_reply": "2022-03-28T11:47:15.134855Z",
     "shell.execute_reply.started": "2022-03-28T11:46:03.199225Z"
    },
    "papermill": {
     "duration": 0.035883,
     "end_time": "2022-03-28T11:47:15.135023",
     "exception": false,
     "start_time": "2022-03-28T11:47:15.099140",
     "status": "completed"
    },
    "tags": []
   },
   "outputs": [
    {
     "data": {
      "application/javascript": [
       "parent.postMessage({\"jupyterEvent\": \"custom.exercise_interaction\", \"data\": {\"outcomeType\": 1, \"valueTowardsCompletion\": 0.25, \"interactionType\": 1, \"questionType\": 2, \"questionId\": \"1_EarlyExitDebugging\", \"learnToolsVersion\": \"0.3.4\", \"failureMessage\": \"\", \"exceptionClass\": \"\", \"trace\": \"\"}}, \"*\")"
      ],
      "text/plain": [
       "<IPython.core.display.Javascript object>"
      ]
     },
     "metadata": {},
     "output_type": "display_data"
    },
    {
     "data": {
      "text/markdown": [
       "<span style=\"color:#33cc33\">Correct:</span> \n",
       "\n",
       "Remember that `return` causes a function to exit immediately. So our original implementation always ran for just one iteration. We can only return `False` if we've looked at every element of the list (and confirmed that none of them are lucky). Though we can return early if the answer is `True`:\n",
       "\n",
       "```python\n",
       "def has_lucky_number(nums):\n",
       "    for num in nums:\n",
       "        if num % 7 == 0:\n",
       "            return True\n",
       "    # We've exhausted the list without finding a lucky number\n",
       "    return False\n",
       "```\n",
       "\n",
       "Here's a one-line version using a list comprehension with Python's `any` function (you can read about what it does by calling `help(any)`):\n",
       "\n",
       "```python\n",
       "def has_lucky_number(nums):\n",
       "    return any([num % 7 == 0 for num in nums])\n",
       "```\n"
      ],
      "text/plain": [
       "Correct: \n",
       "\n",
       "Remember that `return` causes a function to exit immediately. So our original implementation always ran for just one iteration. We can only return `False` if we've looked at every element of the list (and confirmed that none of them are lucky). Though we can return early if the answer is `True`:\n",
       "\n",
       "```python\n",
       "def has_lucky_number(nums):\n",
       "    for num in nums:\n",
       "        if num % 7 == 0:\n",
       "            return True\n",
       "    # We've exhausted the list without finding a lucky number\n",
       "    return False\n",
       "```\n",
       "\n",
       "Here's a one-line version using a list comprehension with Python's `any` function (you can read about what it does by calling `help(any)`):\n",
       "\n",
       "```python\n",
       "def has_lucky_number(nums):\n",
       "    return any([num % 7 == 0 for num in nums])\n",
       "```"
      ]
     },
     "metadata": {},
     "output_type": "display_data"
    }
   ],
   "source": [
    "num = []\n",
    "def has_lucky_number(nums):\n",
    "    \"\"\"Return whether the given list of numbers is lucky. A lucky list contains\n",
    "    at least one number divisible by 7.\n",
    "    \"\"\"\n",
    "    for num in nums:\n",
    "        if num % 7 == 0:\n",
    "            return True\n",
    "        \n",
    "    return False\n",
    "\n",
    "# Check your answer\n",
    "q1.check()"
   ]
  },
  {
   "cell_type": "code",
   "execution_count": 4,
   "id": "8f6c722a",
   "metadata": {
    "execution": {
     "iopub.execute_input": "2022-03-28T11:47:15.183808Z",
     "iopub.status.busy": "2022-03-28T11:47:15.182900Z",
     "iopub.status.idle": "2022-03-28T11:47:15.185764Z",
     "shell.execute_reply": "2022-03-28T11:47:15.186252Z",
     "shell.execute_reply.started": "2022-03-28T11:46:03.223868Z"
    },
    "papermill": {
     "duration": 0.02941,
     "end_time": "2022-03-28T11:47:15.186445",
     "exception": false,
     "start_time": "2022-03-28T11:47:15.157035",
     "status": "completed"
    },
    "tags": []
   },
   "outputs": [],
   "source": [
    "# q1.hint()\n",
    "# q1.solution()"
   ]
  },
  {
   "cell_type": "markdown",
   "id": "d82accc0",
   "metadata": {
    "papermill": {
     "duration": 0.021515,
     "end_time": "2022-03-28T11:47:15.230858",
     "exception": false,
     "start_time": "2022-03-28T11:47:15.209343",
     "status": "completed"
    },
    "tags": []
   },
   "source": [
    "# 2.\n",
    "Look at the Python expression below. What do you think we'll get when we run it? When you've made your prediction, uncomment the code and run the cell to see if you were right."
   ]
  },
  {
   "cell_type": "code",
   "execution_count": 5,
   "id": "f79f57e8",
   "metadata": {
    "execution": {
     "iopub.execute_input": "2022-03-28T11:47:15.279817Z",
     "iopub.status.busy": "2022-03-28T11:47:15.278900Z",
     "iopub.status.idle": "2022-03-28T11:47:15.281921Z",
     "shell.execute_reply": "2022-03-28T11:47:15.281415Z",
     "shell.execute_reply.started": "2022-03-28T11:46:03.232451Z"
    },
    "papermill": {
     "duration": 0.02937,
     "end_time": "2022-03-28T11:47:15.282054",
     "exception": false,
     "start_time": "2022-03-28T11:47:15.252684",
     "status": "completed"
    },
    "tags": []
   },
   "outputs": [],
   "source": [
    "#[1, 2, 3, 4] > 2"
   ]
  },
  {
   "cell_type": "markdown",
   "id": "76b94e10",
   "metadata": {
    "papermill": {
     "duration": 0.023655,
     "end_time": "2022-03-28T11:47:15.328036",
     "exception": false,
     "start_time": "2022-03-28T11:47:15.304381",
     "status": "completed"
    },
    "tags": []
   },
   "source": [
    "R and Python have some libraries (like numpy and pandas) compare each element of the list to 2 (i.e. do an 'element-wise' comparison) and give us a list of booleans like `[False, False, True, True]`. \n",
    "\n",
    "Implement a function that reproduces this behaviour, returning a list of booleans corresponding to whether the corresponding element is greater than n."
   ]
  },
  {
   "cell_type": "code",
   "execution_count": 6,
   "id": "fc073225",
   "metadata": {
    "execution": {
     "iopub.execute_input": "2022-03-28T11:47:15.374998Z",
     "iopub.status.busy": "2022-03-28T11:47:15.374282Z",
     "iopub.status.idle": "2022-03-28T11:47:15.382456Z",
     "shell.execute_reply": "2022-03-28T11:47:15.382984Z",
     "shell.execute_reply.started": "2022-03-28T11:46:03.249226Z"
    },
    "papermill": {
     "duration": 0.033192,
     "end_time": "2022-03-28T11:47:15.383160",
     "exception": false,
     "start_time": "2022-03-28T11:47:15.349968",
     "status": "completed"
    },
    "tags": []
   },
   "outputs": [
    {
     "data": {
      "application/javascript": [
       "parent.postMessage({\"jupyterEvent\": \"custom.exercise_interaction\", \"data\": {\"outcomeType\": 1, \"valueTowardsCompletion\": 0.25, \"interactionType\": 1, \"questionType\": 2, \"questionId\": \"2_ElementWiseComparison\", \"learnToolsVersion\": \"0.3.4\", \"failureMessage\": \"\", \"exceptionClass\": \"\", \"trace\": \"\"}}, \"*\")"
      ],
      "text/plain": [
       "<IPython.core.display.Javascript object>"
      ]
     },
     "metadata": {},
     "output_type": "display_data"
    },
    {
     "data": {
      "text/markdown": [
       "<span style=\"color:#33cc33\">Correct:</span> \n",
       "\n",
       "Here's one solution:\n",
       "```python\n",
       "def elementwise_greater_than(L, thresh):\n",
       "    res = []\n",
       "    for ele in L:\n",
       "        res.append(ele > thresh)\n",
       "    return res\n",
       "```\n",
       "\n",
       "And here's the list comprehension version:\n",
       "```python\n",
       "def elementwise_greater_than(L, thresh):\n",
       "    return [ele > thresh for ele in L]\n",
       "```\n"
      ],
      "text/plain": [
       "Correct: \n",
       "\n",
       "Here's one solution:\n",
       "```python\n",
       "def elementwise_greater_than(L, thresh):\n",
       "    res = []\n",
       "    for ele in L:\n",
       "        res.append(ele > thresh)\n",
       "    return res\n",
       "```\n",
       "\n",
       "And here's the list comprehension version:\n",
       "```python\n",
       "def elementwise_greater_than(L, thresh):\n",
       "    return [ele > thresh for ele in L]\n",
       "```"
      ]
     },
     "metadata": {},
     "output_type": "display_data"
    }
   ],
   "source": [
    "def elementwise_greater_than(L, thresh):\n",
    "    \"\"\"Return a list with the same length as L, where the value at index i is \n",
    "    True if L[i] is greater than thresh, and False otherwise.\n",
    "    \n",
    "    >>> elementwise_greater_than([1, 2, 3, 4], 2)\n",
    "    [False, False, True, True]\n",
    "    \"\"\"\n",
    "    elements = []\n",
    "    for x in L:\n",
    "        if x > thresh:\n",
    "            elements.append(True)\n",
    "        else:\n",
    "            elements.append(False)\n",
    "    return(elements)\n",
    "    \n",
    "\n",
    "# Check your answer\n",
    "q2.check()"
   ]
  },
  {
   "cell_type": "code",
   "execution_count": 7,
   "id": "89d9b4ce",
   "metadata": {
    "execution": {
     "iopub.execute_input": "2022-03-28T11:47:15.434035Z",
     "iopub.status.busy": "2022-03-28T11:47:15.433401Z",
     "iopub.status.idle": "2022-03-28T11:47:15.436027Z",
     "shell.execute_reply": "2022-03-28T11:47:15.436581Z",
     "shell.execute_reply.started": "2022-03-28T11:46:03.272616Z"
    },
    "papermill": {
     "duration": 0.029842,
     "end_time": "2022-03-28T11:47:15.436763",
     "exception": false,
     "start_time": "2022-03-28T11:47:15.406921",
     "status": "completed"
    },
    "tags": []
   },
   "outputs": [],
   "source": [
    "#q2.solution()"
   ]
  },
  {
   "cell_type": "markdown",
   "id": "6d7d7f7a",
   "metadata": {
    "papermill": {
     "duration": 0.022927,
     "end_time": "2022-03-28T11:47:15.483747",
     "exception": false,
     "start_time": "2022-03-28T11:47:15.460820",
     "status": "completed"
    },
    "tags": []
   },
   "source": [
    "# 3.\n",
    "\n",
    "Complete the body of the function below according to its docstring."
   ]
  },
  {
   "cell_type": "code",
   "execution_count": 8,
   "id": "151121ce",
   "metadata": {
    "execution": {
     "iopub.execute_input": "2022-03-28T11:47:15.538574Z",
     "iopub.status.busy": "2022-03-28T11:47:15.537458Z",
     "iopub.status.idle": "2022-03-28T11:47:15.544151Z",
     "shell.execute_reply": "2022-03-28T11:47:15.543519Z",
     "shell.execute_reply.started": "2022-03-28T11:46:03.294208Z"
    },
    "papermill": {
     "duration": 0.037575,
     "end_time": "2022-03-28T11:47:15.544322",
     "exception": false,
     "start_time": "2022-03-28T11:47:15.506747",
     "status": "completed"
    },
    "tags": []
   },
   "outputs": [
    {
     "data": {
      "application/javascript": [
       "parent.postMessage({\"jupyterEvent\": \"custom.exercise_interaction\", \"data\": {\"outcomeType\": 1, \"valueTowardsCompletion\": 0.25, \"interactionType\": 1, \"questionType\": 2, \"questionId\": \"3_BoringMenu\", \"learnToolsVersion\": \"0.3.4\", \"failureMessage\": \"\", \"exceptionClass\": \"\", \"trace\": \"\"}}, \"*\")"
      ],
      "text/plain": [
       "<IPython.core.display.Javascript object>"
      ]
     },
     "metadata": {},
     "output_type": "display_data"
    },
    {
     "data": {
      "text/markdown": [
       "<span style=\"color:#33cc33\">Correct:</span> \n",
       "\n",
       "\n",
       "\n",
       "```python\n",
       "def menu_is_boring(meals):\n",
       "    # Iterate over all indices of the list, except the last one\n",
       "    for i in range(len(meals)-1):\n",
       "        if meals[i] == meals[i+1]:\n",
       "            return True\n",
       "    return False\n",
       "```\n",
       "\n",
       "The key to our solution is the call to `range`. `range(len(meals))` would give us all the indices of `meals`. If we had used that range, the last iteration of the loop would be comparing the last element to the element after it, which is... `IndexError`! `range(len(meals)-1)` gives us all the indices except the index of the last element.\n",
       "\n",
       "But don't we need to check if `meals` is empty? Turns out that `range(0) == range(-1)` - they're both empty. So if `meals` has length 0 or 1, we just won't do any iterations of our for loop.\n"
      ],
      "text/plain": [
       "Correct: \n",
       "\n",
       "\n",
       "\n",
       "```python\n",
       "def menu_is_boring(meals):\n",
       "    # Iterate over all indices of the list, except the last one\n",
       "    for i in range(len(meals)-1):\n",
       "        if meals[i] == meals[i+1]:\n",
       "            return True\n",
       "    return False\n",
       "```\n",
       "\n",
       "The key to our solution is the call to `range`. `range(len(meals))` would give us all the indices of `meals`. If we had used that range, the last iteration of the loop would be comparing the last element to the element after it, which is... `IndexError`! `range(len(meals)-1)` gives us all the indices except the index of the last element.\n",
       "\n",
       "But don't we need to check if `meals` is empty? Turns out that `range(0) == range(-1)` - they're both empty. So if `meals` has length 0 or 1, we just won't do any iterations of our for loop."
      ]
     },
     "metadata": {},
     "output_type": "display_data"
    }
   ],
   "source": [
    "def menu_is_boring(meals):\n",
    "    \"\"\"Given a list of meals served over some period of time, return True if the\n",
    "    same meal has ever been served two days in a row, and False otherwise.\n",
    "    \"\"\"\n",
    "    for i in range(len(meals)-1):\n",
    "        if meals[i] == meals[i+1]:\n",
    "            return True\n",
    "        \n",
    "    return False\n",
    "    \n",
    "\n",
    "# Check your answer\n",
    "q3.check()"
   ]
  },
  {
   "cell_type": "code",
   "execution_count": 9,
   "id": "68c45b75",
   "metadata": {
    "execution": {
     "iopub.execute_input": "2022-03-28T11:47:15.598305Z",
     "iopub.status.busy": "2022-03-28T11:47:15.597590Z",
     "iopub.status.idle": "2022-03-28T11:47:15.599400Z",
     "shell.execute_reply": "2022-03-28T11:47:15.599868Z",
     "shell.execute_reply.started": "2022-03-28T11:46:03.315117Z"
    },
    "papermill": {
     "duration": 0.030789,
     "end_time": "2022-03-28T11:47:15.600051",
     "exception": false,
     "start_time": "2022-03-28T11:47:15.569262",
     "status": "completed"
    },
    "tags": []
   },
   "outputs": [],
   "source": [
    "# q3.hint()\n",
    "# q3.solution()"
   ]
  },
  {
   "cell_type": "markdown",
   "id": "4e12f85b",
   "metadata": {
    "papermill": {
     "duration": 0.024657,
     "end_time": "2022-03-28T11:47:15.650140",
     "exception": false,
     "start_time": "2022-03-28T11:47:15.625483",
     "status": "completed"
    },
    "tags": []
   },
   "source": [
    "# 4. <span title=\"A bit spicy\" style=\"color: darkgreen \">🌶️</span>\n",
    "\n",
    "Next to the Blackjack table, the Python Challenge Casino has a slot machine. You can get a result from the slot machine by calling `play_slot_machine()`. The number it returns is your winnings in dollars. Usually it returns 0.  But sometimes you'll get lucky and get a big payday. Try running it below:"
   ]
  },
  {
   "cell_type": "code",
   "execution_count": 10,
   "id": "56190e18",
   "metadata": {
    "execution": {
     "iopub.execute_input": "2022-03-28T11:47:15.704551Z",
     "iopub.status.busy": "2022-03-28T11:47:15.703878Z",
     "iopub.status.idle": "2022-03-28T11:47:15.708816Z",
     "shell.execute_reply": "2022-03-28T11:47:15.709342Z",
     "shell.execute_reply.started": "2022-03-28T11:46:03.327940Z"
    },
    "papermill": {
     "duration": 0.03416,
     "end_time": "2022-03-28T11:47:15.709512",
     "exception": false,
     "start_time": "2022-03-28T11:47:15.675352",
     "status": "completed"
    },
    "tags": []
   },
   "outputs": [
    {
     "data": {
      "text/plain": [
       "0"
      ]
     },
     "execution_count": 10,
     "metadata": {},
     "output_type": "execute_result"
    }
   ],
   "source": [
    "play_slot_machine()"
   ]
  },
  {
   "cell_type": "markdown",
   "id": "584c3f3e",
   "metadata": {
    "papermill": {
     "duration": 0.025113,
     "end_time": "2022-03-28T11:47:15.759509",
     "exception": false,
     "start_time": "2022-03-28T11:47:15.734396",
     "status": "completed"
    },
    "tags": []
   },
   "source": [
    "By the way, did we mention that each play costs $1? Don't worry, we'll send you the bill later.\n",
    "\n",
    "On average, how much money can you expect to gain (or lose) every time you play the machine?  The casino keeps it a secret, but you can estimate the average value of each pull using a technique called the **Monte Carlo method**. To estimate the average outcome, we simulate the scenario many times, and return the average result.\n",
    "\n",
    "Complete the following function to calculate the average value per play of the slot machine."
   ]
  },
  {
   "cell_type": "code",
   "execution_count": 11,
   "id": "daedfd21",
   "metadata": {
    "execution": {
     "iopub.execute_input": "2022-03-28T11:47:15.816052Z",
     "iopub.status.busy": "2022-03-28T11:47:15.814977Z",
     "iopub.status.idle": "2022-03-28T11:47:15.817615Z",
     "shell.execute_reply": "2022-03-28T11:47:15.817051Z",
     "shell.execute_reply.started": "2022-03-28T11:46:03.347594Z"
    },
    "papermill": {
     "duration": 0.033583,
     "end_time": "2022-03-28T11:47:15.817756",
     "exception": false,
     "start_time": "2022-03-28T11:47:15.784173",
     "status": "completed"
    },
    "tags": []
   },
   "outputs": [],
   "source": [
    "def estimate_average_slot_payout(n_runs):\n",
    "    \"\"\"Run the slot machine n_runs times and return the average net profit per run.\n",
    "    Example calls (note that return value is nondeterministic!):\n",
    "    >>> estimate_average_slot_payout(1)\n",
    "    -1\n",
    "    >>> estimate_average_slot_payout(1)\n",
    "    0.5\n",
    "    \"\"\"\n",
    "    payouts = [play_slot_machine()-1 for i in range(n_runs)]\n",
    "    average_payout = sum(payouts)/n_runs\n",
    "    return average_payout"
   ]
  },
  {
   "cell_type": "markdown",
   "id": "0cda3a68",
   "metadata": {
    "papermill": {
     "duration": 0.024307,
     "end_time": "2022-03-28T11:47:15.866946",
     "exception": false,
     "start_time": "2022-03-28T11:47:15.842639",
     "status": "completed"
    },
    "tags": []
   },
   "source": [
    "When you think you know the expected value per spin, run the code cell below to view the solution and get credit for answering the question."
   ]
  },
  {
   "cell_type": "code",
   "execution_count": 12,
   "id": "52acdd77",
   "metadata": {
    "execution": {
     "iopub.execute_input": "2022-03-28T11:47:15.922049Z",
     "iopub.status.busy": "2022-03-28T11:47:15.921030Z",
     "iopub.status.idle": "2022-03-28T11:47:15.929565Z",
     "shell.execute_reply": "2022-03-28T11:47:15.928975Z",
     "shell.execute_reply.started": "2022-03-28T11:46:03.363527Z"
    },
    "papermill": {
     "duration": 0.037272,
     "end_time": "2022-03-28T11:47:15.929725",
     "exception": false,
     "start_time": "2022-03-28T11:47:15.892453",
     "status": "completed"
    },
    "tags": []
   },
   "outputs": [
    {
     "data": {
      "application/javascript": [
       "parent.postMessage({\"jupyterEvent\": \"custom.exercise_interaction\", \"data\": {\"interactionType\": 3, \"questionType\": 4, \"questionId\": \"4_ExpectedSlotsPayout\", \"learnToolsVersion\": \"0.3.4\", \"valueTowardsCompletion\": 0.0, \"failureMessage\": \"\", \"exceptionClass\": \"\", \"trace\": \"\", \"outcomeType\": 4}}, \"*\")"
      ],
      "text/plain": [
       "<IPython.core.display.Javascript object>"
      ]
     },
     "metadata": {},
     "output_type": "display_data"
    },
    {
     "data": {
      "text/markdown": [
       "<span style=\"color:#33cc99\">Solution:</span> \n",
       "    \n",
       "The exact expected value of one pull of the slot machine is 0.025 - i.e. a little more than 2 cents.  See?  Not every game in the Python Challenge Casino is rigged against the player!\n",
       "\n",
       "In order to get this answer, you'll need to implement the `estimate_average_slot_payout(n_runs)` function to simulate pulling the slot machine `n_runs` times.  It should return the payout averaged over those `n_runs`.\n",
       "\n",
       "Then, once the function is defined, in order to estimate the average slot payout, we need only call the function.\n",
       "\n",
       "Because of the high variance of the outcome (there are some very rare high payout results that significantly affect the average) you might need to run your function with a very high value of `n_runs` to get a stable answer close to the true expectation.  For instance, you might use a value for `n_runs` of 1000000.\n",
       "\n",
       "Here's an example for how the function could look:\n",
       "```python\n",
       "def estimate_average_slot_payout(n_runs):\n",
       "    # Play slot machine n_runs times, calculate payout of each\n",
       "    payouts = [play_slot_machine()-1 for i in range(n_runs)]\n",
       "    # Calculate the average value\n",
       "    avg_payout = sum(payouts) / n_runs\n",
       "    return avg_payout\n",
       "    \n",
       "estimate_average_slot_payout(10000000)\n",
       "\n",
       "```\n",
       "\n",
       "This should return an answer close to 0.025!\n",
       "            \n"
      ],
      "text/plain": [
       "Solution: \n",
       "    \n",
       "The exact expected value of one pull of the slot machine is 0.025 - i.e. a little more than 2 cents.  See?  Not every game in the Python Challenge Casino is rigged against the player!\n",
       "\n",
       "In order to get this answer, you'll need to implement the `estimate_average_slot_payout(n_runs)` function to simulate pulling the slot machine `n_runs` times.  It should return the payout averaged over those `n_runs`.\n",
       "\n",
       "Then, once the function is defined, in order to estimate the average slot payout, we need only call the function.\n",
       "\n",
       "Because of the high variance of the outcome (there are some very rare high payout results that significantly affect the average) you might need to run your function with a very high value of `n_runs` to get a stable answer close to the true expectation.  For instance, you might use a value for `n_runs` of 1000000.\n",
       "\n",
       "Here's an example for how the function could look:\n",
       "```python\n",
       "def estimate_average_slot_payout(n_runs):\n",
       "    # Play slot machine n_runs times, calculate payout of each\n",
       "    payouts = [play_slot_machine()-1 for i in range(n_runs)]\n",
       "    # Calculate the average value\n",
       "    avg_payout = sum(payouts) / n_runs\n",
       "    return avg_payout\n",
       "    \n",
       "estimate_average_slot_payout(10000000)\n",
       "\n",
       "```\n",
       "\n",
       "This should return an answer close to 0.025!\n",
       "            "
      ]
     },
     "metadata": {},
     "output_type": "display_data"
    }
   ],
   "source": [
    "# Check your answer (Run this code cell to receive credit!)\n",
    "q4.solution()"
   ]
  },
  {
   "cell_type": "markdown",
   "id": "2ae26c7c",
   "metadata": {
    "papermill": {
     "duration": 0.025895,
     "end_time": "2022-03-28T11:47:15.982764",
     "exception": false,
     "start_time": "2022-03-28T11:47:15.956869",
     "status": "completed"
    },
    "tags": []
   },
   "source": [
    "# Keep Going\n",
    "\n",
    "Many programmers report that dictionaries are their favorite data structure. You'll get to **[learn about them](https://www.kaggle.com/colinmorris/strings-and-dictionaries)** (as well as strings) in the next lesson."
   ]
  },
  {
   "cell_type": "markdown",
   "id": "5b8f5245",
   "metadata": {
    "papermill": {
     "duration": 0.0259,
     "end_time": "2022-03-28T11:47:16.034962",
     "exception": false,
     "start_time": "2022-03-28T11:47:16.009062",
     "status": "completed"
    },
    "tags": []
   },
   "source": [
    "---\n",
    "\n",
    "\n",
    "\n",
    "\n",
    "*Have questions or comments? Visit the [course discussion forum](https://www.kaggle.com/learn/python/discussion) to chat with other learners.*"
   ]
  }
 ],
 "metadata": {
  "kernelspec": {
   "display_name": "Python 3",
   "language": "python",
   "name": "python3"
  },
  "language_info": {
   "codemirror_mode": {
    "name": "ipython",
    "version": 3
   },
   "file_extension": ".py",
   "mimetype": "text/x-python",
   "name": "python",
   "nbconvert_exporter": "python",
   "pygments_lexer": "ipython3",
   "version": "3.7.12"
  },
  "papermill": {
   "default_parameters": {},
   "duration": 12.684091,
   "end_time": "2022-03-28T11:47:16.671151",
   "environment_variables": {},
   "exception": null,
   "input_path": "__notebook__.ipynb",
   "output_path": "__notebook__.ipynb",
   "parameters": {},
   "start_time": "2022-03-28T11:47:03.987060",
   "version": "2.3.3"
  }
 },
 "nbformat": 4,
 "nbformat_minor": 5
}
