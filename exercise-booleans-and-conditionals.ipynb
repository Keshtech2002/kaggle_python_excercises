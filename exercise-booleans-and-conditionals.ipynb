{
 "cells": [
  {
   "cell_type": "markdown",
   "id": "40b4153e",
   "metadata": {
    "papermill": {
     "duration": 0.039108,
     "end_time": "2022-03-26T21:23:31.504839",
     "exception": false,
     "start_time": "2022-03-26T21:23:31.465731",
     "status": "completed"
    },
    "tags": []
   },
   "source": [
    "**This notebook is an exercise in the [Python](https://www.kaggle.com/learn/python) course.  You can reference the tutorial at [this link](https://www.kaggle.com/colinmorris/booleans-and-conditionals).**\n",
    "\n",
    "---\n"
   ]
  },
  {
   "cell_type": "markdown",
   "id": "35122ef2",
   "metadata": {
    "papermill": {
     "duration": 0.036283,
     "end_time": "2022-03-26T21:23:31.576786",
     "exception": false,
     "start_time": "2022-03-26T21:23:31.540503",
     "status": "completed"
    },
    "tags": []
   },
   "source": [
    "In this exercise, you'll put to work what you have learned about booleans and conditionals.\n",
    "\n",
    "To get started, **run the setup code below** before writing your own code (and if you leave this notebook and come back later, don't forget to run the setup code again)."
   ]
  },
  {
   "cell_type": "code",
   "execution_count": 1,
   "id": "e3eda78e",
   "metadata": {
    "execution": {
     "iopub.execute_input": "2022-03-26T21:23:31.653205Z",
     "iopub.status.busy": "2022-03-26T21:23:31.651971Z",
     "iopub.status.idle": "2022-03-26T21:23:31.699019Z",
     "shell.execute_reply": "2022-03-26T21:23:31.699582Z",
     "shell.execute_reply.started": "2022-03-26T21:19:38.650457Z"
    },
    "papermill": {
     "duration": 0.08644,
     "end_time": "2022-03-26T21:23:31.699926",
     "exception": false,
     "start_time": "2022-03-26T21:23:31.613486",
     "status": "completed"
    },
    "tags": []
   },
   "outputs": [
    {
     "name": "stdout",
     "output_type": "stream",
     "text": [
      "Setup complete.\n"
     ]
    }
   ],
   "source": [
    "from learntools.core import binder; binder.bind(globals())\n",
    "from learntools.python.ex3 import *\n",
    "print('Setup complete.')"
   ]
  },
  {
   "cell_type": "markdown",
   "id": "3eb2b196",
   "metadata": {
    "papermill": {
     "duration": 0.037673,
     "end_time": "2022-03-26T21:23:31.774275",
     "exception": false,
     "start_time": "2022-03-26T21:23:31.736602",
     "status": "completed"
    },
    "tags": []
   },
   "source": [
    "# 1.\n",
    "\n",
    "Many programming languages have [`sign`](https://en.wikipedia.org/wiki/Sign_function) available as a built-in function. Python doesn't, but we can define our own!\n",
    "\n",
    "In the cell below, define a function called `sign` which takes a numerical argument and returns -1 if it's negative, 1 if it's positive, and 0 if it's 0."
   ]
  },
  {
   "cell_type": "code",
   "execution_count": 2,
   "id": "dea9d604",
   "metadata": {
    "execution": {
     "iopub.execute_input": "2022-03-26T21:23:31.854832Z",
     "iopub.status.busy": "2022-03-26T21:23:31.853956Z",
     "iopub.status.idle": "2022-03-26T21:23:31.859564Z",
     "shell.execute_reply": "2022-03-26T21:23:31.860141Z",
     "shell.execute_reply.started": "2022-03-26T21:19:38.703604Z"
    },
    "papermill": {
     "duration": 0.050141,
     "end_time": "2022-03-26T21:23:31.860318",
     "exception": false,
     "start_time": "2022-03-26T21:23:31.810177",
     "status": "completed"
    },
    "tags": []
   },
   "outputs": [
    {
     "data": {
      "application/javascript": [
       "parent.postMessage({\"jupyterEvent\": \"custom.exercise_interaction\", \"data\": {\"outcomeType\": 1, \"valueTowardsCompletion\": 0.2, \"interactionType\": 1, \"questionType\": 2, \"questionId\": \"1_SignFunctionProblem\", \"learnToolsVersion\": \"0.3.4\", \"failureMessage\": \"\", \"exceptionClass\": \"\", \"trace\": \"\"}}, \"*\")"
      ],
      "text/plain": [
       "<IPython.core.display.Javascript object>"
      ]
     },
     "metadata": {},
     "output_type": "display_data"
    },
    {
     "data": {
      "text/markdown": [
       "<span style=\"color:#33cc33\">Correct</span>"
      ],
      "text/plain": [
       "Correct"
      ]
     },
     "metadata": {},
     "output_type": "display_data"
    }
   ],
   "source": [
    "# Your code goes here. Define a function called 'sign'\n",
    "def sign(num):\n",
    "    if num > 0:\n",
    "        return 1\n",
    "    elif num < 0:\n",
    "        return -1\n",
    "    else:\n",
    "        return 0\n",
    "\n",
    "# Check your answer\n",
    "q1.check()"
   ]
  },
  {
   "cell_type": "code",
   "execution_count": 3,
   "id": "8c60bf64",
   "metadata": {
    "execution": {
     "iopub.execute_input": "2022-03-26T21:23:31.944293Z",
     "iopub.status.busy": "2022-03-26T21:23:31.943264Z",
     "iopub.status.idle": "2022-03-26T21:23:31.946103Z",
     "shell.execute_reply": "2022-03-26T21:23:31.945463Z",
     "shell.execute_reply.started": "2022-03-26T21:19:38.794686Z"
    },
    "papermill": {
     "duration": 0.047906,
     "end_time": "2022-03-26T21:23:31.946253",
     "exception": false,
     "start_time": "2022-03-26T21:23:31.898347",
     "status": "completed"
    },
    "tags": []
   },
   "outputs": [],
   "source": [
    "#q1.solution()"
   ]
  },
  {
   "cell_type": "markdown",
   "id": "1e825bc3",
   "metadata": {
    "papermill": {
     "duration": 0.036782,
     "end_time": "2022-03-26T21:23:32.020952",
     "exception": false,
     "start_time": "2022-03-26T21:23:31.984170",
     "status": "completed"
    },
    "tags": []
   },
   "source": [
    "# 2.\n",
    "\n",
    "We've decided to add \"logging\" to our `to_smash` function from the previous exercise."
   ]
  },
  {
   "cell_type": "code",
   "execution_count": 4,
   "id": "745d0043",
   "metadata": {
    "execution": {
     "iopub.execute_input": "2022-03-26T21:23:32.102193Z",
     "iopub.status.busy": "2022-03-26T21:23:32.101323Z",
     "iopub.status.idle": "2022-03-26T21:23:32.105743Z",
     "shell.execute_reply": "2022-03-26T21:23:32.106420Z",
     "shell.execute_reply.started": "2022-03-26T21:19:38.845803Z"
    },
    "papermill": {
     "duration": 0.048654,
     "end_time": "2022-03-26T21:23:32.106660",
     "exception": false,
     "start_time": "2022-03-26T21:23:32.058006",
     "status": "completed"
    },
    "tags": []
   },
   "outputs": [
    {
     "name": "stdout",
     "output_type": "stream",
     "text": [
      "Splitting 91 candies\n"
     ]
    },
    {
     "data": {
      "text/plain": [
       "1"
      ]
     },
     "execution_count": 4,
     "metadata": {},
     "output_type": "execute_result"
    }
   ],
   "source": [
    "def to_smash(total_candies):\n",
    "    \"\"\"Return the number of leftover candies that must be smashed after distributing\n",
    "    the given number of candies evenly between 3 friends.\n",
    "    \n",
    "    >>> to_smash(91)\n",
    "    1\n",
    "    \"\"\"\n",
    "    print(\"Splitting\", total_candies, \"candies\")\n",
    "    return total_candies % 3\n",
    "\n",
    "to_smash(91)"
   ]
  },
  {
   "cell_type": "markdown",
   "id": "78895d23",
   "metadata": {
    "papermill": {
     "duration": 0.03751,
     "end_time": "2022-03-26T21:23:32.182822",
     "exception": false,
     "start_time": "2022-03-26T21:23:32.145312",
     "status": "completed"
    },
    "tags": []
   },
   "source": [
    "What happens if we call it with `total_candies = 1`?"
   ]
  },
  {
   "cell_type": "code",
   "execution_count": 5,
   "id": "abfefea3",
   "metadata": {
    "execution": {
     "iopub.execute_input": "2022-03-26T21:23:32.264319Z",
     "iopub.status.busy": "2022-03-26T21:23:32.263660Z",
     "iopub.status.idle": "2022-03-26T21:23:32.267956Z",
     "shell.execute_reply": "2022-03-26T21:23:32.268689Z",
     "shell.execute_reply.started": "2022-03-26T21:19:38.902723Z"
    },
    "papermill": {
     "duration": 0.048236,
     "end_time": "2022-03-26T21:23:32.268919",
     "exception": false,
     "start_time": "2022-03-26T21:23:32.220683",
     "status": "completed"
    },
    "tags": []
   },
   "outputs": [
    {
     "name": "stdout",
     "output_type": "stream",
     "text": [
      "Splitting 1 candies\n"
     ]
    },
    {
     "data": {
      "text/plain": [
       "1"
      ]
     },
     "execution_count": 5,
     "metadata": {},
     "output_type": "execute_result"
    }
   ],
   "source": [
    "to_smash(1)"
   ]
  },
  {
   "cell_type": "markdown",
   "id": "e4b0467f",
   "metadata": {
    "papermill": {
     "duration": 0.038548,
     "end_time": "2022-03-26T21:23:32.347149",
     "exception": false,
     "start_time": "2022-03-26T21:23:32.308601",
     "status": "completed"
    },
    "tags": []
   },
   "source": [
    "That isn't great grammar!\n",
    "\n",
    "Modify the definition in the cell below to correct the grammar of our print statement. (If there's only one candy, we should use the singular \"candy\" instead of the plural \"candies\")"
   ]
  },
  {
   "cell_type": "code",
   "execution_count": 6,
   "id": "592bef36",
   "metadata": {
    "execution": {
     "iopub.execute_input": "2022-03-26T21:23:32.438711Z",
     "iopub.status.busy": "2022-03-26T21:23:32.437987Z",
     "iopub.status.idle": "2022-03-26T21:23:32.442407Z",
     "shell.execute_reply": "2022-03-26T21:23:32.443107Z",
     "shell.execute_reply.started": "2022-03-26T21:19:38.960712Z"
    },
    "papermill": {
     "duration": 0.051894,
     "end_time": "2022-03-26T21:23:32.443344",
     "exception": false,
     "start_time": "2022-03-26T21:23:32.391450",
     "status": "completed"
    },
    "tags": []
   },
   "outputs": [
    {
     "name": "stdout",
     "output_type": "stream",
     "text": [
      "Splitting 91 candies\n",
      "Splitting 1 candy\n"
     ]
    },
    {
     "data": {
      "text/plain": [
       "1"
      ]
     },
     "execution_count": 6,
     "metadata": {},
     "output_type": "execute_result"
    }
   ],
   "source": [
    "def to_smash(total_candies):\n",
    "    \"\"\"Return the number of leftover candies that must be smashed after distributing\n",
    "    the given number of candies evenly between 3 friends.\n",
    "    \n",
    "    >>> to_smash(91)\n",
    "    1\n",
    "    \"\"\"\n",
    "    if total_candies == 1:\n",
    "        print(\"Splitting\", total_candies, \"candy\")\n",
    "        return total_candies % 3\n",
    "    else:\n",
    "        print(\"Splitting\", total_candies, \"candies\")\n",
    "        return total_candies % 3\n",
    "    \n",
    "\n",
    "to_smash(91)\n",
    "to_smash(1)"
   ]
  },
  {
   "cell_type": "markdown",
   "id": "9885e677",
   "metadata": {
    "papermill": {
     "duration": 0.039415,
     "end_time": "2022-03-26T21:23:32.523219",
     "exception": false,
     "start_time": "2022-03-26T21:23:32.483804",
     "status": "completed"
    },
    "tags": []
   },
   "source": [
    "To get credit for completing this problem, and to see the official answer, run the code cell below."
   ]
  },
  {
   "cell_type": "code",
   "execution_count": 7,
   "id": "8633c38d",
   "metadata": {
    "execution": {
     "iopub.execute_input": "2022-03-26T21:23:32.607904Z",
     "iopub.status.busy": "2022-03-26T21:23:32.607227Z",
     "iopub.status.idle": "2022-03-26T21:23:32.611084Z",
     "shell.execute_reply": "2022-03-26T21:23:32.611565Z",
     "shell.execute_reply.started": "2022-03-26T21:19:39.018617Z"
    },
    "papermill": {
     "duration": 0.048818,
     "end_time": "2022-03-26T21:23:32.611747",
     "exception": false,
     "start_time": "2022-03-26T21:23:32.562929",
     "status": "completed"
    },
    "tags": []
   },
   "outputs": [
    {
     "data": {
      "application/javascript": [
       "parent.postMessage({\"jupyterEvent\": \"custom.exercise_interaction\", \"data\": {\"interactionType\": 3, \"questionType\": 4, \"questionId\": \"2_PluralizationProblem\", \"learnToolsVersion\": \"0.3.4\", \"valueTowardsCompletion\": 0.0, \"failureMessage\": \"\", \"exceptionClass\": \"\", \"trace\": \"\", \"outcomeType\": 4}}, \"*\")"
      ],
      "text/plain": [
       "<IPython.core.display.Javascript object>"
      ]
     },
     "metadata": {},
     "output_type": "display_data"
    },
    {
     "data": {
      "text/markdown": [
       "<span style=\"color:#33cc99\">Solution:</span> A straightforward (and totally fine) solution is to replace the original `print` call with:\n",
       "\n",
       "```python\n",
       "if total_candies == 1:\n",
       "    print(\"Splitting 1 candy\")\n",
       "else:\n",
       "    print(\"Splitting\", total_candies, \"candies\")\n",
       "```\n",
       "\n",
       "Here's a slightly more succinct solution using a conditional expression:\n",
       "\n",
       "```python\n",
       "print(\"Splitting\", total_candies, \"candy\" if total_candies == 1 else \"candies\")\n",
       "```"
      ],
      "text/plain": [
       "Solution: A straightforward (and totally fine) solution is to replace the original `print` call with:\n",
       "\n",
       "```python\n",
       "if total_candies == 1:\n",
       "    print(\"Splitting 1 candy\")\n",
       "else:\n",
       "    print(\"Splitting\", total_candies, \"candies\")\n",
       "```\n",
       "\n",
       "Here's a slightly more succinct solution using a conditional expression:\n",
       "\n",
       "```python\n",
       "print(\"Splitting\", total_candies, \"candy\" if total_candies == 1 else \"candies\")\n",
       "```"
      ]
     },
     "metadata": {},
     "output_type": "display_data"
    }
   ],
   "source": [
    "# Check your answer (Run this code cell to receive credit!)\n",
    "q2.solution()"
   ]
  },
  {
   "cell_type": "markdown",
   "id": "e8f581bb",
   "metadata": {
    "papermill": {
     "duration": 0.040426,
     "end_time": "2022-03-26T21:23:32.693093",
     "exception": false,
     "start_time": "2022-03-26T21:23:32.652667",
     "status": "completed"
    },
    "tags": []
   },
   "source": [
    "# 3. <span title=\"A bit spicy\" style=\"color: darkgreen \">🌶️</span>\n",
    "\n",
    "In the tutorial, we talked about deciding whether we're prepared for the weather. I said that I'm safe from today's weather if...\n",
    "- I have an umbrella...\n",
    "- or if the rain isn't too heavy and I have a hood...\n",
    "- otherwise, I'm still fine unless it's raining *and* it's a workday\n",
    "\n",
    "The function below uses our first attempt at turning this logic into a Python expression. I claimed that there was a bug in that code. Can you find it?\n",
    "\n",
    "To prove that `prepared_for_weather` is buggy, come up with a set of inputs where either:\n",
    "- the function returns `False` (but should have returned `True`), or\n",
    "- the function returned `True` (but should have returned `False`).\n",
    "\n",
    "To get credit for completing this question, your code should return a <font color='#33cc33'>Correct</font> result."
   ]
  },
  {
   "cell_type": "code",
   "execution_count": 8,
   "id": "80d3c63d",
   "metadata": {
    "execution": {
     "iopub.execute_input": "2022-03-26T21:23:32.782690Z",
     "iopub.status.busy": "2022-03-26T21:23:32.781934Z",
     "iopub.status.idle": "2022-03-26T21:23:32.789405Z",
     "shell.execute_reply": "2022-03-26T21:23:32.788812Z",
     "shell.execute_reply.started": "2022-03-26T21:19:39.077076Z"
    },
    "papermill": {
     "duration": 0.055799,
     "end_time": "2022-03-26T21:23:32.789543",
     "exception": false,
     "start_time": "2022-03-26T21:23:32.733744",
     "status": "completed"
    },
    "tags": []
   },
   "outputs": [
    {
     "name": "stdout",
     "output_type": "stream",
     "text": [
      "False\n"
     ]
    },
    {
     "data": {
      "application/javascript": [
       "parent.postMessage({\"jupyterEvent\": \"custom.exercise_interaction\", \"data\": {\"outcomeType\": 1, \"valueTowardsCompletion\": 0.2, \"interactionType\": 1, \"questionType\": 1, \"questionId\": \"3_WeatherDebug\", \"learnToolsVersion\": \"0.3.4\", \"failureMessage\": \"\", \"exceptionClass\": \"\", \"trace\": \"\"}}, \"*\")"
      ],
      "text/plain": [
       "<IPython.core.display.Javascript object>"
      ]
     },
     "metadata": {},
     "output_type": "display_data"
    },
    {
     "data": {
      "text/markdown": [
       "<span style=\"color:#33cc33\">Correct:</span> \n",
       "\n",
       "One example of a failing test case is:\n",
       "\n",
       "```python\n",
       "have_umbrella = False\n",
       "rain_level = 0.0\n",
       "have_hood = False\n",
       "is_workday = False\n",
       "```\n",
       "\n",
       "Clearly we're prepared for the weather in this case. It's not raining. Not only that, it's not a workday, so we don't even need to leave the house! But our function will return False on these inputs.\n",
       "\n",
       "The key problem is that Python implictly parenthesizes the last part as:\n",
       "\n",
       "```python\n",
       "(not (rain_level > 0)) and is_workday\n",
       "```\n",
       "\n",
       "Whereas what we were trying to express would look more like:\n",
       "\n",
       "```python\n",
       "not (rain_level > 0 and is_workday)\n",
       "```\n"
      ],
      "text/plain": [
       "Correct: \n",
       "\n",
       "One example of a failing test case is:\n",
       "\n",
       "```python\n",
       "have_umbrella = False\n",
       "rain_level = 0.0\n",
       "have_hood = False\n",
       "is_workday = False\n",
       "```\n",
       "\n",
       "Clearly we're prepared for the weather in this case. It's not raining. Not only that, it's not a workday, so we don't even need to leave the house! But our function will return False on these inputs.\n",
       "\n",
       "The key problem is that Python implictly parenthesizes the last part as:\n",
       "\n",
       "```python\n",
       "(not (rain_level > 0)) and is_workday\n",
       "```\n",
       "\n",
       "Whereas what we were trying to express would look more like:\n",
       "\n",
       "```python\n",
       "not (rain_level > 0 and is_workday)\n",
       "```"
      ]
     },
     "metadata": {},
     "output_type": "display_data"
    }
   ],
   "source": [
    "def prepared_for_weather(have_umbrella, rain_level, have_hood, is_workday):\n",
    "    # Don't change this code. Our goal is just to find the bug, not fix it!\n",
    "    return have_umbrella or rain_level < 5 and have_hood or not rain_level > 0 and is_workday\n",
    "\n",
    "# Change the values of these inputs so they represent a case where prepared_for_weather\n",
    "# returns the wrong answer.\n",
    "have_umbrella = False\n",
    "rain_level = 0.0\n",
    "have_hood = False\n",
    "is_workday = False\n",
    "\n",
    "# Check what the function returns given the current values of the variables above\n",
    "actual = prepared_for_weather(have_umbrella, rain_level, have_hood, is_workday)\n",
    "print(actual)\n",
    "\n",
    "# Check your answer\n",
    "q3.check()"
   ]
  },
  {
   "cell_type": "code",
   "execution_count": 9,
   "id": "aa2185e0",
   "metadata": {
    "execution": {
     "iopub.execute_input": "2022-03-26T21:23:32.879199Z",
     "iopub.status.busy": "2022-03-26T21:23:32.878233Z",
     "iopub.status.idle": "2022-03-26T21:23:32.881103Z",
     "shell.execute_reply": "2022-03-26T21:23:32.880578Z",
     "shell.execute_reply.started": "2022-03-26T21:19:39.145362Z"
    },
    "papermill": {
     "duration": 0.049142,
     "end_time": "2022-03-26T21:23:32.881271",
     "exception": false,
     "start_time": "2022-03-26T21:23:32.832129",
     "status": "completed"
    },
    "tags": []
   },
   "outputs": [],
   "source": [
    "# q3.hint()\n",
    "# q3.solution()"
   ]
  },
  {
   "cell_type": "markdown",
   "id": "b0765a68",
   "metadata": {
    "papermill": {
     "duration": 0.042938,
     "end_time": "2022-03-26T21:23:32.967245",
     "exception": false,
     "start_time": "2022-03-26T21:23:32.924307",
     "status": "completed"
    },
    "tags": []
   },
   "source": [
    "# 4.\n",
    "\n",
    "The function `is_negative` below is implemented correctly - it returns True if the given number is negative and False otherwise.\n",
    "\n",
    "However, it's more verbose than it needs to be. We can actually reduce the number of lines of code in this function by *75%* while keeping the same behaviour. \n",
    "\n",
    "See if you can come up with an equivalent body that uses just **one line** of code, and put it in the function `concise_is_negative`. (HINT: you don't even need Python's ternary syntax)"
   ]
  },
  {
   "cell_type": "code",
   "execution_count": 10,
   "id": "9e81637a",
   "metadata": {
    "execution": {
     "iopub.execute_input": "2022-03-26T21:23:33.059491Z",
     "iopub.status.busy": "2022-03-26T21:23:33.058779Z",
     "iopub.status.idle": "2022-03-26T21:23:33.064107Z",
     "shell.execute_reply": "2022-03-26T21:23:33.063475Z",
     "shell.execute_reply.started": "2022-03-26T21:19:39.213631Z"
    },
    "papermill": {
     "duration": 0.054017,
     "end_time": "2022-03-26T21:23:33.064258",
     "exception": false,
     "start_time": "2022-03-26T21:23:33.010241",
     "status": "completed"
    },
    "tags": []
   },
   "outputs": [
    {
     "data": {
      "application/javascript": [
       "parent.postMessage({\"jupyterEvent\": \"custom.exercise_interaction\", \"data\": {\"outcomeType\": 1, \"valueTowardsCompletion\": 0.2, \"interactionType\": 1, \"questionType\": 2, \"questionId\": \"4_ConciseIsNegative\", \"learnToolsVersion\": \"0.3.4\", \"failureMessage\": \"\", \"exceptionClass\": \"\", \"trace\": \"\"}}, \"*\")"
      ],
      "text/plain": [
       "<IPython.core.display.Javascript object>"
      ]
     },
     "metadata": {},
     "output_type": "display_data"
    },
    {
     "data": {
      "text/markdown": [
       "<span style=\"color:#33cc33\">Correct</span>"
      ],
      "text/plain": [
       "Correct"
      ]
     },
     "metadata": {},
     "output_type": "display_data"
    }
   ],
   "source": [
    "def is_negative(number):\n",
    "    if number < 0:\n",
    "        return True\n",
    "    else:\n",
    "        return False\n",
    "\n",
    "def concise_is_negative(number):\n",
    "    return True if number < 0 else False\n",
    "\n",
    "# Check your answer\n",
    "q4.check()"
   ]
  },
  {
   "cell_type": "code",
   "execution_count": 11,
   "id": "75dab2e8",
   "metadata": {
    "execution": {
     "iopub.execute_input": "2022-03-26T21:23:33.157274Z",
     "iopub.status.busy": "2022-03-26T21:23:33.156625Z",
     "iopub.status.idle": "2022-03-26T21:23:33.161223Z",
     "shell.execute_reply": "2022-03-26T21:23:33.160596Z",
     "shell.execute_reply.started": "2022-03-26T21:19:39.270990Z"
    },
    "papermill": {
     "duration": 0.052743,
     "end_time": "2022-03-26T21:23:33.161357",
     "exception": false,
     "start_time": "2022-03-26T21:23:33.108614",
     "status": "completed"
    },
    "tags": []
   },
   "outputs": [
    {
     "data": {
      "application/javascript": [
       "parent.postMessage({\"jupyterEvent\": \"custom.exercise_interaction\", \"data\": {\"interactionType\": 3, \"questionType\": 2, \"questionId\": \"4_ConciseIsNegative\", \"learnToolsVersion\": \"0.3.4\", \"valueTowardsCompletion\": 0.0, \"failureMessage\": \"\", \"exceptionClass\": \"\", \"trace\": \"\", \"outcomeType\": 4}}, \"*\")"
      ],
      "text/plain": [
       "<IPython.core.display.Javascript object>"
      ]
     },
     "metadata": {},
     "output_type": "display_data"
    },
    {
     "data": {
      "text/markdown": [
       "<span style=\"color:#33cc99\">Solution:</span> \n",
       "```python\n",
       "return number < 0\n",
       "```"
      ],
      "text/plain": [
       "Solution: \n",
       "```python\n",
       "return number < 0\n",
       "```"
      ]
     },
     "metadata": {},
     "output_type": "display_data"
    }
   ],
   "source": [
    "#q4.hint()\n",
    "q4.solution()"
   ]
  },
  {
   "cell_type": "markdown",
   "id": "941ab3d3",
   "metadata": {
    "papermill": {
     "duration": 0.04446,
     "end_time": "2022-03-26T21:23:33.250957",
     "exception": false,
     "start_time": "2022-03-26T21:23:33.206497",
     "status": "completed"
    },
    "tags": []
   },
   "source": [
    "# 5a.\n",
    "\n",
    "The boolean variables `ketchup`, `mustard` and `onion` represent whether a customer wants a particular topping on their hot dog. We want to implement a number of boolean functions that correspond to some yes-or-no questions about the customer's order. For example:"
   ]
  },
  {
   "cell_type": "code",
   "execution_count": 12,
   "id": "492fe4e3",
   "metadata": {
    "execution": {
     "iopub.execute_input": "2022-03-26T21:23:33.344915Z",
     "iopub.status.busy": "2022-03-26T21:23:33.344257Z",
     "iopub.status.idle": "2022-03-26T21:23:33.347111Z",
     "shell.execute_reply": "2022-03-26T21:23:33.346490Z",
     "shell.execute_reply.started": "2022-03-26T21:19:39.339483Z"
    },
    "papermill": {
     "duration": 0.051553,
     "end_time": "2022-03-26T21:23:33.347271",
     "exception": false,
     "start_time": "2022-03-26T21:23:33.295718",
     "status": "completed"
    },
    "tags": []
   },
   "outputs": [],
   "source": [
    "def onionless(ketchup, mustard, onion):\n",
    "    \"\"\"Return whether the customer doesn't want onions.\n",
    "    \"\"\"\n",
    "    return not onion"
   ]
  },
  {
   "cell_type": "code",
   "execution_count": 13,
   "id": "f9a86139",
   "metadata": {
    "execution": {
     "iopub.execute_input": "2022-03-26T21:23:33.439726Z",
     "iopub.status.busy": "2022-03-26T21:23:33.439073Z",
     "iopub.status.idle": "2022-03-26T21:23:33.445604Z",
     "shell.execute_reply": "2022-03-26T21:23:33.446092Z",
     "shell.execute_reply.started": "2022-03-26T21:19:39.425597Z"
    },
    "papermill": {
     "duration": 0.054194,
     "end_time": "2022-03-26T21:23:33.446267",
     "exception": false,
     "start_time": "2022-03-26T21:23:33.392073",
     "status": "completed"
    },
    "tags": []
   },
   "outputs": [
    {
     "data": {
      "application/javascript": [
       "parent.postMessage({\"jupyterEvent\": \"custom.exercise_interaction\", \"data\": {\"outcomeType\": 1, \"valueTowardsCompletion\": 0.2, \"interactionType\": 1, \"questionType\": 2, \"questionId\": \"5.1_AllToppings\", \"learnToolsVersion\": \"0.3.4\", \"failureMessage\": \"\", \"exceptionClass\": \"\", \"trace\": \"\"}}, \"*\")"
      ],
      "text/plain": [
       "<IPython.core.display.Javascript object>"
      ]
     },
     "metadata": {},
     "output_type": "display_data"
    },
    {
     "data": {
      "text/markdown": [
       "<span style=\"color:#33cc33\">Correct</span>"
      ],
      "text/plain": [
       "Correct"
      ]
     },
     "metadata": {},
     "output_type": "display_data"
    }
   ],
   "source": [
    "def wants_all_toppings(ketchup, mustard, onion):\n",
    "    \"\"\"Return whether the customer wants \"the works\" (all 3 toppings)\n",
    "    \"\"\"\n",
    "    return (onion and ketchup and mustard) \n",
    "\n",
    "# Check your answer\n",
    "q5.a.check()"
   ]
  },
  {
   "cell_type": "code",
   "execution_count": 14,
   "id": "9ba6dfe9",
   "metadata": {
    "execution": {
     "iopub.execute_input": "2022-03-26T21:23:33.542668Z",
     "iopub.status.busy": "2022-03-26T21:23:33.542012Z",
     "iopub.status.idle": "2022-03-26T21:23:33.543677Z",
     "shell.execute_reply": "2022-03-26T21:23:33.544147Z",
     "shell.execute_reply.started": "2022-03-26T21:19:39.480347Z"
    },
    "papermill": {
     "duration": 0.052115,
     "end_time": "2022-03-26T21:23:33.544317",
     "exception": false,
     "start_time": "2022-03-26T21:23:33.492202",
     "status": "completed"
    },
    "tags": []
   },
   "outputs": [],
   "source": [
    "# q5.a.hint()\n",
    "#q5.a.solution()"
   ]
  },
  {
   "cell_type": "markdown",
   "id": "ca7a3960",
   "metadata": {
    "papermill": {
     "duration": 0.045459,
     "end_time": "2022-03-26T21:23:33.635776",
     "exception": false,
     "start_time": "2022-03-26T21:23:33.590317",
     "status": "completed"
    },
    "tags": []
   },
   "source": [
    "# 5b.\n",
    "\n",
    "For the next function, fill in the body to match the English description in the docstring. "
   ]
  },
  {
   "cell_type": "code",
   "execution_count": 15,
   "id": "553633f4",
   "metadata": {
    "execution": {
     "iopub.execute_input": "2022-03-26T21:23:33.734260Z",
     "iopub.status.busy": "2022-03-26T21:23:33.733549Z",
     "iopub.status.idle": "2022-03-26T21:23:33.737192Z",
     "shell.execute_reply": "2022-03-26T21:23:33.737820Z",
     "shell.execute_reply.started": "2022-03-26T21:19:39.539056Z"
    },
    "papermill": {
     "duration": 0.056295,
     "end_time": "2022-03-26T21:23:33.737994",
     "exception": false,
     "start_time": "2022-03-26T21:23:33.681699",
     "status": "completed"
    },
    "tags": []
   },
   "outputs": [
    {
     "data": {
      "application/javascript": [
       "parent.postMessage({\"jupyterEvent\": \"custom.exercise_interaction\", \"data\": {\"outcomeType\": 1, \"valueTowardsCompletion\": 0.2, \"interactionType\": 1, \"questionType\": 2, \"questionId\": \"5.2_PlainDog\", \"learnToolsVersion\": \"0.3.4\", \"failureMessage\": \"\", \"exceptionClass\": \"\", \"trace\": \"\"}}, \"*\")"
      ],
      "text/plain": [
       "<IPython.core.display.Javascript object>"
      ]
     },
     "metadata": {},
     "output_type": "display_data"
    },
    {
     "data": {
      "text/markdown": [
       "<span style=\"color:#33cc33\">Correct:</span> \n",
       "\n",
       "One solution looks like:\n",
       "```python\n",
       "return not ketchup and not mustard and not onion\n",
       "```\n",
       "\n",
       "We can also [\"factor out\" the nots](https://en.wikipedia.org/wiki/De_Morgan%27s_laws) to get:\n",
       "\n",
       "```python\n",
       "return not (ketchup or mustard or onion)\n",
       "```"
      ],
      "text/plain": [
       "Correct: \n",
       "\n",
       "One solution looks like:\n",
       "```python\n",
       "return not ketchup and not mustard and not onion\n",
       "```\n",
       "\n",
       "We can also [\"factor out\" the nots](https://en.wikipedia.org/wiki/De_Morgan%27s_laws) to get:\n",
       "\n",
       "```python\n",
       "return not (ketchup or mustard or onion)\n",
       "```"
      ]
     },
     "metadata": {},
     "output_type": "display_data"
    }
   ],
   "source": [
    "def wants_plain_hotdog(ketchup, mustard, onion):\n",
    "    \"\"\"Return whether the customer wants a plain hot dog with no toppings.\n",
    "    \"\"\"\n",
    "    return (not onion and not ketchup and not mustard)\n",
    "\n",
    "# Check your answer\n",
    "q5.b.check()"
   ]
  },
  {
   "cell_type": "code",
   "execution_count": 16,
   "id": "c0dc3603",
   "metadata": {
    "execution": {
     "iopub.execute_input": "2022-03-26T21:23:33.838499Z",
     "iopub.status.busy": "2022-03-26T21:23:33.837833Z",
     "iopub.status.idle": "2022-03-26T21:23:33.840441Z",
     "shell.execute_reply": "2022-03-26T21:23:33.839830Z",
     "shell.execute_reply.started": "2022-03-26T21:19:39.656479Z"
    },
    "papermill": {
     "duration": 0.054353,
     "end_time": "2022-03-26T21:23:33.840577",
     "exception": false,
     "start_time": "2022-03-26T21:23:33.786224",
     "status": "completed"
    },
    "tags": []
   },
   "outputs": [],
   "source": [
    "#q5.b.hint()\n",
    "#q5.b.solution()"
   ]
  },
  {
   "cell_type": "markdown",
   "id": "fdb976ff",
   "metadata": {
    "papermill": {
     "duration": 0.048676,
     "end_time": "2022-03-26T21:23:33.937392",
     "exception": false,
     "start_time": "2022-03-26T21:23:33.888716",
     "status": "completed"
    },
    "tags": []
   },
   "source": [
    "# 5c.\n",
    "\n",
    "You know what to do: for the next function, fill in the body to match the English description in the docstring."
   ]
  },
  {
   "cell_type": "code",
   "execution_count": 17,
   "id": "335d178f",
   "metadata": {
    "execution": {
     "iopub.execute_input": "2022-03-26T21:23:34.040612Z",
     "iopub.status.busy": "2022-03-26T21:23:34.039938Z",
     "iopub.status.idle": "2022-03-26T21:23:34.045548Z",
     "shell.execute_reply": "2022-03-26T21:23:34.046061Z",
     "shell.execute_reply.started": "2022-03-26T21:19:39.708183Z"
    },
    "papermill": {
     "duration": 0.059842,
     "end_time": "2022-03-26T21:23:34.046254",
     "exception": false,
     "start_time": "2022-03-26T21:23:33.986412",
     "status": "completed"
    },
    "tags": []
   },
   "outputs": [
    {
     "data": {
      "application/javascript": [
       "parent.postMessage({\"jupyterEvent\": \"custom.exercise_interaction\", \"data\": {\"outcomeType\": 1, \"valueTowardsCompletion\": 0.2, \"interactionType\": 1, \"questionType\": 2, \"questionId\": \"5.3_OneSauce\", \"learnToolsVersion\": \"0.3.4\", \"failureMessage\": \"\", \"exceptionClass\": \"\", \"trace\": \"\"}}, \"*\")"
      ],
      "text/plain": [
       "<IPython.core.display.Javascript object>"
      ]
     },
     "metadata": {},
     "output_type": "display_data"
    },
    {
     "data": {
      "text/markdown": [
       "<span style=\"color:#33cc33\">Correct</span>"
      ],
      "text/plain": [
       "Correct"
      ]
     },
     "metadata": {},
     "output_type": "display_data"
    }
   ],
   "source": [
    "def exactly_one_sauce(ketchup, mustard, onion):\n",
    "    \"\"\"Return whether the customer wants either ketchup or mustard, but not both.\n",
    "    (You may be familiar with this operation under the name \"exclusive or\")\n",
    "    \"\"\"\n",
    "    return (ketchup or mustard) and not (ketchup and mustard)\n",
    "\n",
    "# Check your answer\n",
    "q5.c.check()"
   ]
  },
  {
   "cell_type": "code",
   "execution_count": 18,
   "id": "2fdf5f52",
   "metadata": {
    "execution": {
     "iopub.execute_input": "2022-03-26T21:23:34.148072Z",
     "iopub.status.busy": "2022-03-26T21:23:34.147402Z",
     "iopub.status.idle": "2022-03-26T21:23:34.149972Z",
     "shell.execute_reply": "2022-03-26T21:23:34.150560Z",
     "shell.execute_reply.started": "2022-03-26T21:19:39.802452Z"
    },
    "papermill": {
     "duration": 0.054459,
     "end_time": "2022-03-26T21:23:34.150800",
     "exception": false,
     "start_time": "2022-03-26T21:23:34.096341",
     "status": "completed"
    },
    "tags": []
   },
   "outputs": [],
   "source": [
    "#q5.c.hint()\n",
    "#q5.c.solution()"
   ]
  },
  {
   "cell_type": "markdown",
   "id": "9670e568",
   "metadata": {
    "papermill": {
     "duration": 0.048275,
     "end_time": "2022-03-26T21:23:34.247549",
     "exception": false,
     "start_time": "2022-03-26T21:23:34.199274",
     "status": "completed"
    },
    "tags": []
   },
   "source": [
    "# 6. <span title=\"A bit spicy\" style=\"color: darkgreen \">🌶️</span>\n",
    "\n",
    "We’ve seen that calling `bool()` on an integer returns `False` if it’s equal to 0 and `True` otherwise. What happens if we call `int()` on a bool? Try it out in the notebook cell below.\n",
    "\n",
    "Can you take advantage of this to write a succinct function that corresponds to the English sentence \"does the customer want exactly one topping?\"?"
   ]
  },
  {
   "cell_type": "code",
   "execution_count": 19,
   "id": "1a04f7b4",
   "metadata": {
    "execution": {
     "iopub.execute_input": "2022-03-26T21:23:34.348577Z",
     "iopub.status.busy": "2022-03-26T21:23:34.347913Z",
     "iopub.status.idle": "2022-03-26T21:23:34.354699Z",
     "shell.execute_reply": "2022-03-26T21:23:34.355227Z",
     "shell.execute_reply.started": "2022-03-26T21:19:39.866798Z"
    },
    "papermill": {
     "duration": 0.059026,
     "end_time": "2022-03-26T21:23:34.355394",
     "exception": false,
     "start_time": "2022-03-26T21:23:34.296368",
     "status": "completed"
    },
    "tags": []
   },
   "outputs": [
    {
     "data": {
      "application/javascript": [
       "parent.postMessage({\"jupyterEvent\": \"custom.exercise_interaction\", \"data\": {\"outcomeType\": 1, \"valueTowardsCompletion\": 0.2, \"interactionType\": 1, \"questionType\": 2, \"questionId\": \"6_OneTopping\", \"learnToolsVersion\": \"0.3.4\", \"failureMessage\": \"\", \"exceptionClass\": \"\", \"trace\": \"\"}}, \"*\")"
      ],
      "text/plain": [
       "<IPython.core.display.Javascript object>"
      ]
     },
     "metadata": {},
     "output_type": "display_data"
    },
    {
     "data": {
      "text/markdown": [
       "<span style=\"color:#33cc33\">Correct:</span> \n",
       "\n",
       "This condition would be pretty complicated to express using just `and`, `or` and `not`, but using boolean-to-integer conversion gives us this short solution:\n",
       "```python\n",
       "return (int(ketchup) + int(mustard) + int(onion)) == 1\n",
       "```\n",
       "\n",
       "Fun fact: we don't technically need to call `int` on the arguments. Just by doing addition with booleans, Python implicitly does the integer conversion. So we could also write...\n",
       "\n",
       "```python\n",
       "return (ketchup + mustard + onion) == 1\n",
       "```"
      ],
      "text/plain": [
       "Correct: \n",
       "\n",
       "This condition would be pretty complicated to express using just `and`, `or` and `not`, but using boolean-to-integer conversion gives us this short solution:\n",
       "```python\n",
       "return (int(ketchup) + int(mustard) + int(onion)) == 1\n",
       "```\n",
       "\n",
       "Fun fact: we don't technically need to call `int` on the arguments. Just by doing addition with booleans, Python implicitly does the integer conversion. So we could also write...\n",
       "\n",
       "```python\n",
       "return (ketchup + mustard + onion) == 1\n",
       "```"
      ]
     },
     "metadata": {},
     "output_type": "display_data"
    }
   ],
   "source": [
    "def exactly_one_topping(ketchup, mustard, onion):\n",
    "    \"\"\"Return whether the customer wants exactly one of the three available toppings\n",
    "    on their hot dog.\n",
    "    \"\"\"\n",
    "    return (ketchup + mustard + onion) == 1\n",
    "\n",
    "# Check your answer\n",
    "q6.check()"
   ]
  },
  {
   "cell_type": "code",
   "execution_count": 20,
   "id": "fc33d638",
   "metadata": {
    "execution": {
     "iopub.execute_input": "2022-03-26T21:23:34.458402Z",
     "iopub.status.busy": "2022-03-26T21:23:34.457792Z",
     "iopub.status.idle": "2022-03-26T21:23:34.460421Z",
     "shell.execute_reply": "2022-03-26T21:23:34.460939Z",
     "shell.execute_reply.started": "2022-03-26T21:19:39.913795Z"
    },
    "papermill": {
     "duration": 0.055776,
     "end_time": "2022-03-26T21:23:34.461102",
     "exception": false,
     "start_time": "2022-03-26T21:23:34.405326",
     "status": "completed"
    },
    "tags": []
   },
   "outputs": [],
   "source": [
    "# q6.hint()\n",
    "# q6.solution()"
   ]
  },
  {
   "cell_type": "markdown",
   "id": "6419b198",
   "metadata": {
    "papermill": {
     "duration": 0.049449,
     "end_time": "2022-03-26T21:23:34.560526",
     "exception": false,
     "start_time": "2022-03-26T21:23:34.511077",
     "status": "completed"
    },
    "tags": []
   },
   "source": [
    "# 7. <span title=\"A bit spicy\" style=\"color: darkgreen \">🌶️</span> (Optional)\n",
    "\n",
    "In this problem we'll be working with a simplified version of [blackjack](https://en.wikipedia.org/wiki/Blackjack) (aka twenty-one). In this version there is one player (who you'll control) and a dealer. Play proceeds as follows:\n",
    "\n",
    "- The player is dealt two face-up cards. The dealer is dealt one face-up card.\n",
    "- The player may ask to be dealt another card ('hit') as many times as they wish. If the sum of their cards exceeds 21, they lose the round immediately.\n",
    "- The dealer then deals additional cards to himself until either:\n",
    "    - the sum of the dealer's cards exceeds 21, in which case the player wins the round\n",
    "    - the sum of the dealer's cards is greater than or equal to 17. If the player's total is greater than the dealer's, the player wins. Otherwise, the dealer wins (even in case of a tie).\n",
    "    \n",
    "When calculating the sum of cards, Jack, Queen, and King count for 10. Aces can count as 1 or 11 (when referring to a player's \"total\" above, we mean the largest total that can be made without exceeding 21. So e.g. A+8 = 19, A+8+8 = 17)\n",
    "\n",
    "For this problem, you'll write a function representing the player's decision-making strategy in this game. We've provided a very unintelligent implementation below:"
   ]
  },
  {
   "cell_type": "code",
   "execution_count": 21,
   "id": "14352e35",
   "metadata": {
    "execution": {
     "iopub.execute_input": "2022-03-26T21:23:34.663332Z",
     "iopub.status.busy": "2022-03-26T21:23:34.662698Z",
     "iopub.status.idle": "2022-03-26T21:23:34.669490Z",
     "shell.execute_reply": "2022-03-26T21:23:34.668844Z",
     "shell.execute_reply.started": "2022-03-26T21:19:40.033367Z"
    },
    "papermill": {
     "duration": 0.059014,
     "end_time": "2022-03-26T21:23:34.669627",
     "exception": false,
     "start_time": "2022-03-26T21:23:34.610613",
     "status": "completed"
    },
    "tags": []
   },
   "outputs": [],
   "source": [
    "import random\n",
    "def should_hit(dealer_total, player_total, player_low_aces, player_high_aces):\n",
    "    \"\"\"Return True if the player should hit (request another card) given the current game\n",
    "    state, or False if the player should stay.\n",
    "    When calculating a hand's total value, we count aces as \"high\" (with value 11) if doing so\n",
    "    doesn't bring the total above 21, otherwise we count them as low (with value 1). \n",
    "    For example, if the player's hand is {A, A, A, 7}, we will count it as 11 + 1 + 1 + 7,\n",
    "    and therefore set player_total=20, player_low_aces=2, player_high_aces=1.\n",
    "    \"\"\"\n",
    "    player_total = player_low_aces + player_high_aces + random.randint(2,11)\n",
    "    if player_total < 21 and player_total < dealer_total:\n",
    "        return True\n",
    "    elif player_total < 21 and player_total > 17 and player_total > dealer_total:\n",
    "        return False\n",
    "    else:\n",
    "        return False"
   ]
  },
  {
   "cell_type": "markdown",
   "id": "a0d87c3f",
   "metadata": {
    "papermill": {
     "duration": 0.049723,
     "end_time": "2022-03-26T21:23:34.769894",
     "exception": false,
     "start_time": "2022-03-26T21:23:34.720171",
     "status": "completed"
    },
    "tags": []
   },
   "source": [
    "This very conservative agent *always* sticks with the hand of two cards that they're dealt.\n",
    "\n",
    "We'll be simulating games between your player agent and our own dealer agent by calling your function.\n",
    "\n",
    "Try running the function below to see an example of a simulated game:"
   ]
  },
  {
   "cell_type": "code",
   "execution_count": 22,
   "id": "f1ed5da9",
   "metadata": {
    "execution": {
     "iopub.execute_input": "2022-03-26T21:23:34.875292Z",
     "iopub.status.busy": "2022-03-26T21:23:34.874608Z",
     "iopub.status.idle": "2022-03-26T21:23:34.879335Z",
     "shell.execute_reply": "2022-03-26T21:23:34.879788Z",
     "shell.execute_reply.started": "2022-03-26T21:19:40.210563Z"
    },
    "papermill": {
     "duration": 0.060005,
     "end_time": "2022-03-26T21:23:34.879973",
     "exception": false,
     "start_time": "2022-03-26T21:23:34.819968",
     "status": "completed"
    },
    "tags": []
   },
   "outputs": [
    {
     "name": "stdout",
     "output_type": "stream",
     "text": [
      "Player starts with Q and 8 (total = 18)\n",
      "Dealer starts with 10\n",
      "\n",
      "__Player's turn__\n",
      "Player hits and receives 10. (total = 28)\n",
      "Player busts! Dealer wins.\n"
     ]
    }
   ],
   "source": [
    "q7.simulate_one_game()"
   ]
  },
  {
   "cell_type": "markdown",
   "id": "65c3d96e",
   "metadata": {
    "papermill": {
     "duration": 0.050718,
     "end_time": "2022-03-26T21:23:34.982149",
     "exception": false,
     "start_time": "2022-03-26T21:23:34.931431",
     "status": "completed"
    },
    "tags": []
   },
   "source": [
    "The real test of your agent's mettle is their average win rate over many games. Try calling the function below to simulate 50000 games of blackjack (it may take a couple seconds):"
   ]
  },
  {
   "cell_type": "code",
   "execution_count": 23,
   "id": "49c6a60f",
   "metadata": {
    "execution": {
     "iopub.execute_input": "2022-03-26T21:23:35.133337Z",
     "iopub.status.busy": "2022-03-26T21:23:35.107448Z",
     "iopub.status.idle": "2022-03-26T21:23:37.218388Z",
     "shell.execute_reply": "2022-03-26T21:23:37.219353Z",
     "shell.execute_reply.started": "2022-03-26T21:19:40.398295Z"
    },
    "papermill": {
     "duration": 2.186347,
     "end_time": "2022-03-26T21:23:37.219668",
     "exception": false,
     "start_time": "2022-03-26T21:23:35.033321",
     "status": "completed"
    },
    "tags": []
   },
   "outputs": [
    {
     "name": "stdout",
     "output_type": "stream",
     "text": [
      "Player won 13573 out of 50000 games (win rate = 27.1%)\n"
     ]
    }
   ],
   "source": [
    "q7.simulate(n_games=50000)"
   ]
  },
  {
   "cell_type": "markdown",
   "id": "dc5e4e8a",
   "metadata": {
    "papermill": {
     "duration": 0.051482,
     "end_time": "2022-03-26T21:23:37.324262",
     "exception": false,
     "start_time": "2022-03-26T21:23:37.272780",
     "status": "completed"
    },
    "tags": []
   },
   "source": [
    "Our dumb agent that completely ignores the game state still manages to win shockingly often!\n",
    "\n",
    "Try adding some more smarts to the `should_hit` function and see how it affects the results."
   ]
  },
  {
   "cell_type": "code",
   "execution_count": 24,
   "id": "ddedbdfa",
   "metadata": {
    "execution": {
     "iopub.execute_input": "2022-03-26T21:23:37.451085Z",
     "iopub.status.busy": "2022-03-26T21:23:37.450300Z",
     "iopub.status.idle": "2022-03-26T21:23:39.626296Z",
     "shell.execute_reply": "2022-03-26T21:23:39.625359Z",
     "shell.execute_reply.started": "2022-03-26T21:19:42.559535Z"
    },
    "papermill": {
     "duration": 2.249714,
     "end_time": "2022-03-26T21:23:39.626493",
     "exception": false,
     "start_time": "2022-03-26T21:23:37.376779",
     "status": "completed"
    },
    "tags": []
   },
   "outputs": [
    {
     "name": "stdout",
     "output_type": "stream",
     "text": [
      "Player won 20813 out of 50000 games (win rate = 41.6%)\n"
     ]
    }
   ],
   "source": [
    "import random\n",
    "def should_hit(dealer_total, player_total, player_low_aces, player_high_aces):\n",
    "    \"\"\"Return True if the player should hit (request another card) given the current game\n",
    "    state, or False if the player should stay.\n",
    "    When calculating a hand's total value, we count aces as \"high\" (with value 11) if doing so\n",
    "    doesn't bring the total above 21, otherwise we count them as low (with value 1). \n",
    "    For example, if the player's hand is {A, A, A, 7}, we will count it as 11 + 1 + 1 + 7,\n",
    "    and therefore set player_total=20, player_low_aces=2, player_high_aces=1.\n",
    "    \"\"\"\n",
    "    \n",
    "    if (player_total < 12\n",
    "       or (player_total == 12 and dealer_total < 7)\n",
    "       or (player_total == 17 and dealer_total > 6)\n",
    "       or (player_total > 11 and player_total< 18 and player_high_aces == 1)\n",
    "       ):\n",
    "        return True \n",
    "    else:\n",
    "        return False\n",
    "    \n",
    "\n",
    "q7.simulate(n_games=50000)"
   ]
  },
  {
   "cell_type": "markdown",
   "id": "ae3b9f45",
   "metadata": {
    "papermill": {
     "duration": 0.054284,
     "end_time": "2022-03-26T21:23:39.734593",
     "exception": false,
     "start_time": "2022-03-26T21:23:39.680309",
     "status": "completed"
    },
    "tags": []
   },
   "source": [
    "# Keep Going\n",
    "\n",
    "Learn about **[lists and tuples](https://www.kaggle.com/colinmorris/lists)** to handle multiple items of data in a systematic way."
   ]
  },
  {
   "cell_type": "markdown",
   "id": "b7183219",
   "metadata": {
    "papermill": {
     "duration": 0.051193,
     "end_time": "2022-03-26T21:23:39.837513",
     "exception": false,
     "start_time": "2022-03-26T21:23:39.786320",
     "status": "completed"
    },
    "tags": []
   },
   "source": [
    "---\n",
    "\n",
    "\n",
    "\n",
    "\n",
    "*Have questions or comments? Visit the [course discussion forum](https://www.kaggle.com/learn/python/discussion) to chat with other learners.*"
   ]
  }
 ],
 "metadata": {
  "kernelspec": {
   "display_name": "Python 3",
   "language": "python",
   "name": "python3"
  },
  "language_info": {
   "codemirror_mode": {
    "name": "ipython",
    "version": 3
   },
   "file_extension": ".py",
   "mimetype": "text/x-python",
   "name": "python",
   "nbconvert_exporter": "python",
   "pygments_lexer": "ipython3",
   "version": "3.7.12"
  },
  "papermill": {
   "default_parameters": {},
   "duration": 19.17894,
   "end_time": "2022-03-26T21:23:40.499966",
   "environment_variables": {},
   "exception": null,
   "input_path": "__notebook__.ipynb",
   "output_path": "__notebook__.ipynb",
   "parameters": {},
   "start_time": "2022-03-26T21:23:21.321026",
   "version": "2.3.3"
  }
 },
 "nbformat": 4,
 "nbformat_minor": 5
}
