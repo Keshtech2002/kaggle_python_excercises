{
 "cells": [
  {
   "cell_type": "markdown",
   "id": "d2baf150",
   "metadata": {
    "papermill": {
     "duration": 0.020891,
     "end_time": "2022-03-24T12:00:12.437151",
     "exception": false,
     "start_time": "2022-03-24T12:00:12.416260",
     "status": "completed"
    },
    "tags": []
   },
   "source": [
    "**This notebook is an exercise in the [Python](https://www.kaggle.com/learn/python) course.  You can reference the tutorial at [this link](https://www.kaggle.com/colinmorris/functions-and-getting-help).**\n",
    "\n",
    "---\n"
   ]
  },
  {
   "cell_type": "markdown",
   "id": "5c9276c5",
   "metadata": {
    "papermill": {
     "duration": 0.017787,
     "end_time": "2022-03-24T12:00:12.473417",
     "exception": false,
     "start_time": "2022-03-24T12:00:12.455630",
     "status": "completed"
    },
    "tags": []
   },
   "source": [
    "Functions are powerful. Try writing some yourself.\n",
    "\n",
    "As before, don't forget to run the setup code below before jumping into question 1."
   ]
  },
  {
   "cell_type": "code",
   "execution_count": 1,
   "id": "15c7f95c",
   "metadata": {
    "_kg_hide-input": true,
    "_kg_hide-output": true,
    "execution": {
     "iopub.execute_input": "2022-03-24T12:00:12.518575Z",
     "iopub.status.busy": "2022-03-24T12:00:12.517852Z",
     "iopub.status.idle": "2022-03-24T12:00:12.560868Z",
     "shell.execute_reply": "2022-03-24T12:00:12.560214Z",
     "shell.execute_reply.started": "2022-03-24T11:33:53.243060Z"
    },
    "papermill": {
     "duration": 0.069673,
     "end_time": "2022-03-24T12:00:12.561104",
     "exception": false,
     "start_time": "2022-03-24T12:00:12.491431",
     "status": "completed"
    },
    "tags": []
   },
   "outputs": [
    {
     "name": "stdout",
     "output_type": "stream",
     "text": [
      "Setup complete.\n"
     ]
    }
   ],
   "source": [
    "# SETUP. You don't need to worry for now about what this code does or how it works.\n",
    "from learntools.core import binder; binder.bind(globals())\n",
    "from learntools.python.ex2 import *\n",
    "print('Setup complete.')"
   ]
  },
  {
   "cell_type": "markdown",
   "id": "0465410b",
   "metadata": {
    "papermill": {
     "duration": 0.022631,
     "end_time": "2022-03-24T12:00:12.602959",
     "exception": false,
     "start_time": "2022-03-24T12:00:12.580328",
     "status": "completed"
    },
    "tags": []
   },
   "source": [
    "# 1.\n",
    "\n",
    "Complete the body of the following function according to its docstring.\n",
    "\n",
    "HINT: Python has a built-in function `round`."
   ]
  },
  {
   "cell_type": "code",
   "execution_count": 2,
   "id": "e1d4567d",
   "metadata": {
    "execution": {
     "iopub.execute_input": "2022-03-24T12:00:12.659828Z",
     "iopub.status.busy": "2022-03-24T12:00:12.656964Z",
     "iopub.status.idle": "2022-03-24T12:00:12.668770Z",
     "shell.execute_reply": "2022-03-24T12:00:12.669402Z",
     "shell.execute_reply.started": "2022-03-24T11:37:30.176113Z"
    },
    "papermill": {
     "duration": 0.040857,
     "end_time": "2022-03-24T12:00:12.669587",
     "exception": false,
     "start_time": "2022-03-24T12:00:12.628730",
     "status": "completed"
    },
    "tags": []
   },
   "outputs": [
    {
     "data": {
      "application/javascript": [
       "parent.postMessage({\"jupyterEvent\": \"custom.exercise_interaction\", \"data\": {\"outcomeType\": 1, \"valueTowardsCompletion\": 0.16666666666666666, \"interactionType\": 1, \"questionType\": 2, \"questionId\": \"1_RoundFunctionProblem\", \"learnToolsVersion\": \"0.3.4\", \"failureMessage\": \"\", \"exceptionClass\": \"\", \"trace\": \"\"}}, \"*\")"
      ],
      "text/plain": [
       "<IPython.core.display.Javascript object>"
      ]
     },
     "metadata": {},
     "output_type": "display_data"
    },
    {
     "data": {
      "text/markdown": [
       "<span style=\"color:#33cc33\">Correct</span>"
      ],
      "text/plain": [
       "Correct"
      ]
     },
     "metadata": {},
     "output_type": "display_data"
    }
   ],
   "source": [
    "def round_to_two_places(num):\n",
    "    \"\"\"Return the given number rounded to two decimal places. \n",
    "    \n",
    "    >>> round_to_two_places(3.14159)\n",
    "    3.14\n",
    "    \"\"\"\n",
    "    return round(num, 2)\n",
    "    # Replace this body with your own code.\n",
    "    # (\"pass\" is a keyword that does literally nothing. We used it as a placeholder\n",
    "    # because after we begin a code block, Python requires at least one line of code)\n",
    "    pass\n",
    "\n",
    "# Check your answer\n",
    "q1.check()"
   ]
  },
  {
   "cell_type": "code",
   "execution_count": 3,
   "id": "677a1e77",
   "metadata": {
    "execution": {
     "iopub.execute_input": "2022-03-24T12:00:12.724706Z",
     "iopub.status.busy": "2022-03-24T12:00:12.723699Z",
     "iopub.status.idle": "2022-03-24T12:00:12.726628Z",
     "shell.execute_reply": "2022-03-24T12:00:12.727311Z"
    },
    "papermill": {
     "duration": 0.036733,
     "end_time": "2022-03-24T12:00:12.727505",
     "exception": false,
     "start_time": "2022-03-24T12:00:12.690772",
     "status": "completed"
    },
    "tags": []
   },
   "outputs": [],
   "source": [
    "# Uncomment the following for a hint\n",
    "#q1.hint()\n",
    "# Or uncomment the following to peek at the solution\n",
    "#q1.solution()"
   ]
  },
  {
   "cell_type": "markdown",
   "id": "466c94c0",
   "metadata": {
    "papermill": {
     "duration": 0.020381,
     "end_time": "2022-03-24T12:00:12.769313",
     "exception": false,
     "start_time": "2022-03-24T12:00:12.748932",
     "status": "completed"
    },
    "tags": []
   },
   "source": [
    "# 2.\n",
    "The help for `round` says that `ndigits` (the second argument) may be negative.\n",
    "What do you think will happen when it is? Try some examples in the following cell."
   ]
  },
  {
   "cell_type": "code",
   "execution_count": 4,
   "id": "1c8c6b1d",
   "metadata": {
    "execution": {
     "iopub.execute_input": "2022-03-24T12:00:12.821033Z",
     "iopub.status.busy": "2022-03-24T12:00:12.819817Z",
     "iopub.status.idle": "2022-03-24T12:00:12.823341Z",
     "shell.execute_reply": "2022-03-24T12:00:12.823863Z",
     "shell.execute_reply.started": "2022-03-24T11:40:29.172612Z"
    },
    "papermill": {
     "duration": 0.033583,
     "end_time": "2022-03-24T12:00:12.824138",
     "exception": false,
     "start_time": "2022-03-24T12:00:12.790555",
     "status": "completed"
    },
    "tags": []
   },
   "outputs": [
    {
     "name": "stdout",
     "output_type": "stream",
     "text": [
      "0.0\n"
     ]
    }
   ],
   "source": [
    "# Put your test code here\n",
    "num = 345.14278945\n",
    "print(round(num, -3))"
   ]
  },
  {
   "cell_type": "markdown",
   "id": "ed8fe0ef",
   "metadata": {
    "papermill": {
     "duration": 0.020507,
     "end_time": "2022-03-24T12:00:12.865520",
     "exception": false,
     "start_time": "2022-03-24T12:00:12.845013",
     "status": "completed"
    },
    "tags": []
   },
   "source": [
    "Can you think of a case where this would be useful?  Once you're ready, run the code cell below to see the answer and to receive credit for completing the problem."
   ]
  },
  {
   "cell_type": "code",
   "execution_count": 5,
   "id": "91abc064",
   "metadata": {
    "execution": {
     "iopub.execute_input": "2022-03-24T12:00:12.915174Z",
     "iopub.status.busy": "2022-03-24T12:00:12.914098Z",
     "iopub.status.idle": "2022-03-24T12:00:12.922592Z",
     "shell.execute_reply": "2022-03-24T12:00:12.921596Z",
     "shell.execute_reply.started": "2022-03-24T11:43:58.444424Z"
    },
    "papermill": {
     "duration": 0.036427,
     "end_time": "2022-03-24T12:00:12.922826",
     "exception": false,
     "start_time": "2022-03-24T12:00:12.886399",
     "status": "completed"
    },
    "tags": []
   },
   "outputs": [
    {
     "data": {
      "application/javascript": [
       "parent.postMessage({\"jupyterEvent\": \"custom.exercise_interaction\", \"data\": {\"interactionType\": 3, \"questionType\": 4, \"questionId\": \"2_RoundNdigitsProblem\", \"learnToolsVersion\": \"0.3.4\", \"valueTowardsCompletion\": 0.0, \"failureMessage\": \"\", \"exceptionClass\": \"\", \"trace\": \"\", \"outcomeType\": 4}}, \"*\")"
      ],
      "text/plain": [
       "<IPython.core.display.Javascript object>"
      ]
     },
     "metadata": {},
     "output_type": "display_data"
    },
    {
     "data": {
      "text/markdown": [
       "<span style=\"color:#33cc99\">Solution:</span> As you've seen, `ndigits=-1` rounds to the nearest 10, `ndigits=-2` rounds to the nearest 100 and so on. Where might this be useful? Suppose we're dealing with large numbers:\n",
       "\n",
       "> The area of Finland is 338,424 km²  \n",
       "> The area of Greenland is 2,166,086 km²\n",
       "\n",
       "We probably don't care whether it's really 338,424, or 338,425, or 338,177. All those digits of accuracy are just distracting. We can chop them off by calling `round()` with `ndigits=-3`:\n",
       "\n",
       "> The area of Finland is 338,000 km²  \n",
       "> The area of Greenland is 2,166,000 km²\n",
       "\n",
       "(We'll talk about how we would get the commas later when we talk about string formatting :))\n"
      ],
      "text/plain": [
       "Solution: As you've seen, `ndigits=-1` rounds to the nearest 10, `ndigits=-2` rounds to the nearest 100 and so on. Where might this be useful? Suppose we're dealing with large numbers:\n",
       "\n",
       "> The area of Finland is 338,424 km²  \n",
       "> The area of Greenland is 2,166,086 km²\n",
       "\n",
       "We probably don't care whether it's really 338,424, or 338,425, or 338,177. All those digits of accuracy are just distracting. We can chop them off by calling `round()` with `ndigits=-3`:\n",
       "\n",
       "> The area of Finland is 338,000 km²  \n",
       "> The area of Greenland is 2,166,000 km²\n",
       "\n",
       "(We'll talk about how we would get the commas later when we talk about string formatting :))"
      ]
     },
     "metadata": {},
     "output_type": "display_data"
    }
   ],
   "source": [
    "# Check your answer (Run this code cell to receive credit!)\n",
    "q2.solution()"
   ]
  },
  {
   "cell_type": "markdown",
   "id": "f0d3ba00",
   "metadata": {
    "papermill": {
     "duration": 0.023256,
     "end_time": "2022-03-24T12:00:12.975307",
     "exception": false,
     "start_time": "2022-03-24T12:00:12.952051",
     "status": "completed"
    },
    "tags": []
   },
   "source": [
    "# 3.\n",
    "\n",
    "In the previous exercise, the candy-sharing friends Alice, Bob and Carol tried to split candies evenly. For the sake of their friendship, any candies left over would be smashed. For example, if they collectively bring home 91 candies, they'll take 30 each and smash 1.\n",
    "\n",
    "Below is a simple function that will calculate the number of candies to smash for *any* number of total candies.\n",
    "\n",
    "Modify it so that it optionally takes a second argument representing the number of friends the candies are being split between. If no second argument is provided, it should assume 3 friends, as before.\n",
    "\n",
    "Update the docstring to reflect this new behaviour."
   ]
  },
  {
   "cell_type": "code",
   "execution_count": 6,
   "id": "f8884add",
   "metadata": {
    "execution": {
     "iopub.execute_input": "2022-03-24T12:00:13.024418Z",
     "iopub.status.busy": "2022-03-24T12:00:13.023331Z",
     "iopub.status.idle": "2022-03-24T12:00:13.034882Z",
     "shell.execute_reply": "2022-03-24T12:00:13.035841Z",
     "shell.execute_reply.started": "2022-03-24T11:46:54.131104Z"
    },
    "papermill": {
     "duration": 0.038232,
     "end_time": "2022-03-24T12:00:13.036106",
     "exception": false,
     "start_time": "2022-03-24T12:00:12.997874",
     "status": "completed"
    },
    "tags": []
   },
   "outputs": [
    {
     "data": {
      "application/javascript": [
       "parent.postMessage({\"jupyterEvent\": \"custom.exercise_interaction\", \"data\": {\"outcomeType\": 1, \"valueTowardsCompletion\": 0.16666666666666666, \"interactionType\": 1, \"questionType\": 2, \"questionId\": \"3_CandySmashingFunctionProblem\", \"learnToolsVersion\": \"0.3.4\", \"failureMessage\": \"\", \"exceptionClass\": \"\", \"trace\": \"\"}}, \"*\")"
      ],
      "text/plain": [
       "<IPython.core.display.Javascript object>"
      ]
     },
     "metadata": {},
     "output_type": "display_data"
    },
    {
     "data": {
      "text/markdown": [
       "<span style=\"color:#33cc33\">Correct</span>"
      ],
      "text/plain": [
       "Correct"
      ]
     },
     "metadata": {},
     "output_type": "display_data"
    }
   ],
   "source": [
    "def to_smash(total_candies, total_friends = 3):\n",
    "    \"\"\"Return the number of leftover candies that must be smashed after distributing\n",
    "    the given number of candies evenly between 3 friends.\n",
    "    \n",
    "    >>> to_smash(91)\n",
    "    1\n",
    "    \"\"\"\n",
    "    return total_candies % total_friends\n",
    "\n",
    "# Check your answer\n",
    "q3.check()"
   ]
  },
  {
   "cell_type": "code",
   "execution_count": 7,
   "id": "655e2a30",
   "metadata": {
    "execution": {
     "iopub.execute_input": "2022-03-24T12:00:13.089607Z",
     "iopub.status.busy": "2022-03-24T12:00:13.088532Z",
     "iopub.status.idle": "2022-03-24T12:00:13.092704Z",
     "shell.execute_reply": "2022-03-24T12:00:13.093395Z"
    },
    "papermill": {
     "duration": 0.032469,
     "end_time": "2022-03-24T12:00:13.093582",
     "exception": false,
     "start_time": "2022-03-24T12:00:13.061113",
     "status": "completed"
    },
    "tags": []
   },
   "outputs": [],
   "source": [
    "#q3.hint()"
   ]
  },
  {
   "cell_type": "code",
   "execution_count": 8,
   "id": "f08078a6",
   "metadata": {
    "execution": {
     "iopub.execute_input": "2022-03-24T12:00:13.146745Z",
     "iopub.status.busy": "2022-03-24T12:00:13.145631Z",
     "iopub.status.idle": "2022-03-24T12:00:13.149417Z",
     "shell.execute_reply": "2022-03-24T12:00:13.150147Z"
    },
    "papermill": {
     "duration": 0.032243,
     "end_time": "2022-03-24T12:00:13.150332",
     "exception": false,
     "start_time": "2022-03-24T12:00:13.118089",
     "status": "completed"
    },
    "tags": []
   },
   "outputs": [],
   "source": [
    "#q3.solution()"
   ]
  },
  {
   "cell_type": "markdown",
   "id": "90b8db84",
   "metadata": {
    "papermill": {
     "duration": 0.02509,
     "end_time": "2022-03-24T12:00:13.199791",
     "exception": false,
     "start_time": "2022-03-24T12:00:13.174701",
     "status": "completed"
    },
    "tags": []
   },
   "source": [
    "# 4. (Optional)\n",
    "\n",
    "It may not be fun, but reading and understanding error messages will be an important part of your Python career.\n",
    "\n",
    "Each code cell below contains some commented buggy code. For each cell...\n",
    "\n",
    "1. Read the code and predict what you think will happen when it's run.\n",
    "2. Then uncomment the code and run it to see what happens. (**Tip**: In the kernel editor, you can highlight several lines and press `ctrl`+`/` to toggle commenting.)\n",
    "3. Fix the code (so that it accomplishes its intended purpose without throwing an exception)\n",
    "\n",
    "<!-- TODO: should this be autochecked? Delta is probably pretty small. -->"
   ]
  },
  {
   "cell_type": "code",
   "execution_count": 9,
   "id": "f4b12d24",
   "metadata": {
    "execution": {
     "iopub.execute_input": "2022-03-24T12:00:13.257550Z",
     "iopub.status.busy": "2022-03-24T12:00:13.256563Z",
     "iopub.status.idle": "2022-03-24T12:00:13.260408Z",
     "shell.execute_reply": "2022-03-24T12:00:13.260973Z",
     "shell.execute_reply.started": "2022-03-24T11:51:19.432411Z"
    },
    "papermill": {
     "duration": 0.036231,
     "end_time": "2022-03-24T12:00:13.261168",
     "exception": false,
     "start_time": "2022-03-24T12:00:13.224937",
     "status": "completed"
    },
    "tags": []
   },
   "outputs": [
    {
     "data": {
      "text/plain": [
       "10.0"
      ]
     },
     "execution_count": 9,
     "metadata": {},
     "output_type": "execute_result"
    }
   ],
   "source": [
    "round(9.9999, 2)"
   ]
  },
  {
   "cell_type": "code",
   "execution_count": 10,
   "id": "abf72785",
   "metadata": {
    "execution": {
     "iopub.execute_input": "2022-03-24T12:00:13.315211Z",
     "iopub.status.busy": "2022-03-24T12:00:13.314141Z",
     "iopub.status.idle": "2022-03-24T12:00:13.321799Z",
     "shell.execute_reply": "2022-03-24T12:00:13.322721Z",
     "shell.execute_reply.started": "2022-03-24T11:56:56.491914Z"
    },
    "papermill": {
     "duration": 0.036784,
     "end_time": "2022-03-24T12:00:13.323008",
     "exception": false,
     "start_time": "2022-03-24T12:00:13.286224",
     "status": "completed"
    },
    "tags": []
   },
   "outputs": [
    {
     "name": "stdout",
     "output_type": "stream",
     "text": [
      "5\n"
     ]
    }
   ],
   "source": [
    "x = -10\n",
    "y = 5\n",
    "# Which of the two variables above has the smallest absolute value?\n",
    "smallest_abs = min(abs(x),abs(y))\n",
    "\n",
    "print(smallest_abs)"
   ]
  },
  {
   "cell_type": "code",
   "execution_count": 11,
   "id": "898f3a83",
   "metadata": {
    "execution": {
     "iopub.execute_input": "2022-03-24T12:00:13.377974Z",
     "iopub.status.busy": "2022-03-24T12:00:13.376821Z",
     "iopub.status.idle": "2022-03-24T12:00:13.382983Z",
     "shell.execute_reply": "2022-03-24T12:00:13.383657Z",
     "shell.execute_reply.started": "2022-03-24T11:57:32.785444Z"
    },
    "papermill": {
     "duration": 0.035344,
     "end_time": "2022-03-24T12:00:13.383846",
     "exception": false,
     "start_time": "2022-03-24T12:00:13.348502",
     "status": "completed"
    },
    "tags": []
   },
   "outputs": [
    {
     "name": "stdout",
     "output_type": "stream",
     "text": [
      "5\n"
     ]
    }
   ],
   "source": [
    "def f(x):\n",
    "    y = abs(x)\n",
    "    return y\n",
    "\n",
    "print(f(5))"
   ]
  },
  {
   "cell_type": "markdown",
   "id": "4ae5df0d",
   "metadata": {
    "papermill": {
     "duration": 0.024608,
     "end_time": "2022-03-24T12:00:13.436756",
     "exception": false,
     "start_time": "2022-03-24T12:00:13.412148",
     "status": "completed"
    },
    "tags": []
   },
   "source": [
    "# Keep Going\n",
    "\n",
    "Nice job with the code. Next up, you'll learn about *conditionals*, which you'll need to **[write interesting programs](https://www.kaggle.com/colinmorris/booleans-and-conditionals)**. "
   ]
  },
  {
   "cell_type": "markdown",
   "id": "79ced5ed",
   "metadata": {
    "papermill": {
     "duration": 0.025992,
     "end_time": "2022-03-24T12:00:13.487988",
     "exception": false,
     "start_time": "2022-03-24T12:00:13.461996",
     "status": "completed"
    },
    "tags": []
   },
   "source": [
    "---\n",
    "\n",
    "\n",
    "\n",
    "\n",
    "*Have questions or comments? Visit the [course discussion forum](https://www.kaggle.com/learn/python/discussion) to chat with other learners.*"
   ]
  }
 ],
 "metadata": {
  "kernelspec": {
   "display_name": "Python 3",
   "language": "python",
   "name": "python3"
  },
  "language_info": {
   "codemirror_mode": {
    "name": "ipython",
    "version": 3
   },
   "file_extension": ".py",
   "mimetype": "text/x-python",
   "name": "python",
   "nbconvert_exporter": "python",
   "pygments_lexer": "ipython3",
   "version": "3.7.12"
  },
  "papermill": {
   "default_parameters": {},
   "duration": 11.461475,
   "end_time": "2022-03-24T12:00:14.122850",
   "environment_variables": {},
   "exception": null,
   "input_path": "__notebook__.ipynb",
   "output_path": "__notebook__.ipynb",
   "parameters": {},
   "start_time": "2022-03-24T12:00:02.661375",
   "version": "2.3.3"
  }
 },
 "nbformat": 4,
 "nbformat_minor": 5
}
