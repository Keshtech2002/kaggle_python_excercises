{
 "cells": [
  {
   "cell_type": "markdown",
   "id": "6a324385",
   "metadata": {
    "papermill": {
     "duration": 0.023974,
     "end_time": "2022-03-26T22:45:32.032017",
     "exception": false,
     "start_time": "2022-03-26T22:45:32.008043",
     "status": "completed"
    },
    "tags": []
   },
   "source": [
    "**This notebook is an exercise in the [Python](https://www.kaggle.com/learn/python) course.  You can reference the tutorial at [this link](https://www.kaggle.com/colinmorris/lists).**\n",
    "\n",
    "---\n"
   ]
  },
  {
   "cell_type": "markdown",
   "id": "9af1ef08",
   "metadata": {
    "papermill": {
     "duration": 0.0224,
     "end_time": "2022-03-26T22:45:32.078353",
     "exception": false,
     "start_time": "2022-03-26T22:45:32.055953",
     "status": "completed"
    },
    "tags": []
   },
   "source": [
    "Things get more interesting with lists. You'll apply your new knowledge to solve the questions below. Remember to run the following cell first."
   ]
  },
  {
   "cell_type": "code",
   "execution_count": 1,
   "id": "456cb677",
   "metadata": {
    "execution": {
     "iopub.execute_input": "2022-03-26T22:45:32.136135Z",
     "iopub.status.busy": "2022-03-26T22:45:32.135433Z",
     "iopub.status.idle": "2022-03-26T22:45:32.179031Z",
     "shell.execute_reply": "2022-03-26T22:45:32.178146Z",
     "shell.execute_reply.started": "2022-03-26T22:09:35.760203Z"
    },
    "papermill": {
     "duration": 0.078023,
     "end_time": "2022-03-26T22:45:32.179218",
     "exception": false,
     "start_time": "2022-03-26T22:45:32.101195",
     "status": "completed"
    },
    "tags": []
   },
   "outputs": [
    {
     "name": "stdout",
     "output_type": "stream",
     "text": [
      "Setup complete.\n"
     ]
    }
   ],
   "source": [
    "from learntools.core import binder; binder.bind(globals())\n",
    "from learntools.python.ex4 import *\n",
    "print('Setup complete.')"
   ]
  },
  {
   "cell_type": "markdown",
   "id": "13a002b3",
   "metadata": {
    "papermill": {
     "duration": 0.023422,
     "end_time": "2022-03-26T22:45:32.227894",
     "exception": false,
     "start_time": "2022-03-26T22:45:32.204472",
     "status": "completed"
    },
    "tags": []
   },
   "source": [
    "# 1.\n",
    "\n",
    "Complete the function below according to its docstring."
   ]
  },
  {
   "cell_type": "code",
   "execution_count": 2,
   "id": "07bdd210",
   "metadata": {
    "execution": {
     "iopub.execute_input": "2022-03-26T22:45:32.278740Z",
     "iopub.status.busy": "2022-03-26T22:45:32.277975Z",
     "iopub.status.idle": "2022-03-26T22:45:32.289369Z",
     "shell.execute_reply": "2022-03-26T22:45:32.289990Z",
     "shell.execute_reply.started": "2022-03-26T22:20:07.205104Z"
    },
    "papermill": {
     "duration": 0.038699,
     "end_time": "2022-03-26T22:45:32.290181",
     "exception": false,
     "start_time": "2022-03-26T22:45:32.251482",
     "status": "completed"
    },
    "tags": []
   },
   "outputs": [
    {
     "data": {
      "application/javascript": [
       "parent.postMessage({\"jupyterEvent\": \"custom.exercise_interaction\", \"data\": {\"outcomeType\": 1, \"valueTowardsCompletion\": 0.2, \"interactionType\": 1, \"questionType\": 2, \"questionId\": \"1_SelectSecondItem\", \"learnToolsVersion\": \"0.3.4\", \"failureMessage\": \"\", \"exceptionClass\": \"\", \"trace\": \"\"}}, \"*\")"
      ],
      "text/plain": [
       "<IPython.core.display.Javascript object>"
      ]
     },
     "metadata": {},
     "output_type": "display_data"
    },
    {
     "data": {
      "text/markdown": [
       "<span style=\"color:#33cc33\">Correct</span>"
      ],
      "text/plain": [
       "Correct"
      ]
     },
     "metadata": {},
     "output_type": "display_data"
    }
   ],
   "source": [
    "def select_second(L):\n",
    "    \"\"\"Return the second element of the given list. If the list has no second\n",
    "    element, return None.\n",
    "    \"\"\"\n",
    "    if len(L) < 2:\n",
    "        return None\n",
    "    else:\n",
    "        return L[1]\n",
    "\n",
    "# Check your answer\n",
    "q1.check()"
   ]
  },
  {
   "cell_type": "code",
   "execution_count": 3,
   "id": "a24c0839",
   "metadata": {
    "execution": {
     "iopub.execute_input": "2022-03-26T22:45:32.344313Z",
     "iopub.status.busy": "2022-03-26T22:45:32.343623Z",
     "iopub.status.idle": "2022-03-26T22:45:32.346288Z",
     "shell.execute_reply": "2022-03-26T22:45:32.346912Z",
     "shell.execute_reply.started": "2022-03-26T22:20:24.567539Z"
    },
    "papermill": {
     "duration": 0.031788,
     "end_time": "2022-03-26T22:45:32.347081",
     "exception": false,
     "start_time": "2022-03-26T22:45:32.315293",
     "status": "completed"
    },
    "tags": []
   },
   "outputs": [],
   "source": [
    "# q1.hint()\n",
    "# q1.solution()"
   ]
  },
  {
   "cell_type": "markdown",
   "id": "3d217a23",
   "metadata": {
    "papermill": {
     "duration": 0.025448,
     "end_time": "2022-03-26T22:45:32.397306",
     "exception": false,
     "start_time": "2022-03-26T22:45:32.371858",
     "status": "completed"
    },
    "tags": []
   },
   "source": [
    "# 2.\n",
    "\n",
    "You are analyzing sports teams.  Members of each team are stored in a list. The Coach is the first name in the list, the captain is the second name in the list, and other players are listed after that. \n",
    "These lists are stored in another list, which starts with the best team and proceeds through the list to the worst team last.  Complete the function below to select the **captain** of the worst team."
   ]
  },
  {
   "cell_type": "code",
   "execution_count": 4,
   "id": "d4112cdf",
   "metadata": {
    "execution": {
     "iopub.execute_input": "2022-03-26T22:45:32.451415Z",
     "iopub.status.busy": "2022-03-26T22:45:32.450744Z",
     "iopub.status.idle": "2022-03-26T22:45:32.458152Z",
     "shell.execute_reply": "2022-03-26T22:45:32.458844Z",
     "shell.execute_reply.started": "2022-03-26T22:25:17.122380Z"
    },
    "papermill": {
     "duration": 0.03566,
     "end_time": "2022-03-26T22:45:32.459019",
     "exception": false,
     "start_time": "2022-03-26T22:45:32.423359",
     "status": "completed"
    },
    "tags": []
   },
   "outputs": [
    {
     "data": {
      "application/javascript": [
       "parent.postMessage({\"jupyterEvent\": \"custom.exercise_interaction\", \"data\": {\"outcomeType\": 1, \"valueTowardsCompletion\": 0.2, \"interactionType\": 1, \"questionType\": 2, \"questionId\": \"2_LosingTeamCaptain\", \"learnToolsVersion\": \"0.3.4\", \"failureMessage\": \"\", \"exceptionClass\": \"\", \"trace\": \"\"}}, \"*\")"
      ],
      "text/plain": [
       "<IPython.core.display.Javascript object>"
      ]
     },
     "metadata": {},
     "output_type": "display_data"
    },
    {
     "data": {
      "text/markdown": [
       "<span style=\"color:#33cc33\">Correct</span>"
      ],
      "text/plain": [
       "Correct"
      ]
     },
     "metadata": {},
     "output_type": "display_data"
    }
   ],
   "source": [
    "def losing_team_captain(teams):\n",
    "    \"\"\"Given a list of teams, where each team is a list of names, return the 2nd player (captain)\n",
    "    from the last listed team\n",
    "    \"\"\"\n",
    "    return teams[-1][1]\n",
    "\n",
    "# Check your answer\n",
    "q2.check()"
   ]
  },
  {
   "cell_type": "code",
   "execution_count": 5,
   "id": "6c7fc37d",
   "metadata": {
    "collapsed": true,
    "execution": {
     "iopub.execute_input": "2022-03-26T22:45:32.516008Z",
     "iopub.status.busy": "2022-03-26T22:45:32.515212Z",
     "iopub.status.idle": "2022-03-26T22:45:32.518003Z",
     "shell.execute_reply": "2022-03-26T22:45:32.518711Z"
    },
    "jupyter": {
     "outputs_hidden": true
    },
    "papermill": {
     "duration": 0.033195,
     "end_time": "2022-03-26T22:45:32.518908",
     "exception": false,
     "start_time": "2022-03-26T22:45:32.485713",
     "status": "completed"
    },
    "tags": []
   },
   "outputs": [],
   "source": [
    "#q2.hint()\n",
    "#q2.solution()"
   ]
  },
  {
   "cell_type": "markdown",
   "id": "f0375629",
   "metadata": {
    "papermill": {
     "duration": 0.026089,
     "end_time": "2022-03-26T22:45:32.571968",
     "exception": false,
     "start_time": "2022-03-26T22:45:32.545879",
     "status": "completed"
    },
    "tags": []
   },
   "source": [
    "# 3.\n",
    "\n",
    "The next iteration of Mario Kart will feature an extra-infuriating new item, the *Purple Shell*. When used, it warps the last place racer into first place and the first place racer into last place. Complete the function below to implement the Purple Shell's effect."
   ]
  },
  {
   "cell_type": "code",
   "execution_count": 6,
   "id": "e5d00d56",
   "metadata": {
    "execution": {
     "iopub.execute_input": "2022-03-26T22:45:32.628131Z",
     "iopub.status.busy": "2022-03-26T22:45:32.627480Z",
     "iopub.status.idle": "2022-03-26T22:45:32.634759Z",
     "shell.execute_reply": "2022-03-26T22:45:32.635325Z",
     "shell.execute_reply.started": "2022-03-26T22:29:19.500965Z"
    },
    "papermill": {
     "duration": 0.03695,
     "end_time": "2022-03-26T22:45:32.635505",
     "exception": false,
     "start_time": "2022-03-26T22:45:32.598555",
     "status": "completed"
    },
    "tags": []
   },
   "outputs": [
    {
     "data": {
      "application/javascript": [
       "parent.postMessage({\"jupyterEvent\": \"custom.exercise_interaction\", \"data\": {\"outcomeType\": 1, \"valueTowardsCompletion\": 0.2, \"interactionType\": 1, \"questionType\": 2, \"questionId\": \"3_PurpleShell\", \"learnToolsVersion\": \"0.3.4\", \"failureMessage\": \"\", \"exceptionClass\": \"\", \"trace\": \"\"}}, \"*\")"
      ],
      "text/plain": [
       "<IPython.core.display.Javascript object>"
      ]
     },
     "metadata": {},
     "output_type": "display_data"
    },
    {
     "data": {
      "text/markdown": [
       "<span style=\"color:#33cc33\">Correct</span>"
      ],
      "text/plain": [
       "Correct"
      ]
     },
     "metadata": {},
     "output_type": "display_data"
    }
   ],
   "source": [
    "def purple_shell(racers):\n",
    "    \"\"\"Given a list of racers, set the first place racer (at the front of the list) to last\n",
    "    place and vice versa.\n",
    "    \n",
    "    >>> r = [\"Mario\", \"Bowser\", \"Luigi\"]\n",
    "    >>> purple_shell(r)\n",
    "    >>> r\n",
    "    [\"Luigi\", \"Bowser\", \"Mario\"]\n",
    "    \"\"\"\n",
    "    racers[0], racers[-1] = racers[-1], racers[0]\n",
    "\n",
    "# Check your answer\n",
    "q3.check()"
   ]
  },
  {
   "cell_type": "code",
   "execution_count": 7,
   "id": "e63d28b1",
   "metadata": {
    "collapsed": true,
    "execution": {
     "iopub.execute_input": "2022-03-26T22:45:32.695466Z",
     "iopub.status.busy": "2022-03-26T22:45:32.694679Z",
     "iopub.status.idle": "2022-03-26T22:45:32.697257Z",
     "shell.execute_reply": "2022-03-26T22:45:32.697906Z"
    },
    "jupyter": {
     "outputs_hidden": true
    },
    "papermill": {
     "duration": 0.03436,
     "end_time": "2022-03-26T22:45:32.698100",
     "exception": false,
     "start_time": "2022-03-26T22:45:32.663740",
     "status": "completed"
    },
    "tags": []
   },
   "outputs": [],
   "source": [
    "#q3.hint()\n",
    "#q3.solution()"
   ]
  },
  {
   "cell_type": "markdown",
   "id": "52e4109e",
   "metadata": {
    "papermill": {
     "duration": 0.029373,
     "end_time": "2022-03-26T22:45:32.756381",
     "exception": false,
     "start_time": "2022-03-26T22:45:32.727008",
     "status": "completed"
    },
    "tags": []
   },
   "source": [
    "# 4.\n",
    "\n",
    "What are the lengths of the following lists? Fill in the variable `lengths` with your predictions. (Try to make a prediction for each list *without* just calling `len()` on it.)"
   ]
  },
  {
   "cell_type": "code",
   "execution_count": 8,
   "id": "292a951f",
   "metadata": {
    "execution": {
     "iopub.execute_input": "2022-03-26T22:45:32.823649Z",
     "iopub.status.busy": "2022-03-26T22:45:32.822869Z",
     "iopub.status.idle": "2022-03-26T22:45:32.827983Z",
     "shell.execute_reply": "2022-03-26T22:45:32.828590Z",
     "shell.execute_reply.started": "2022-03-26T22:33:02.938059Z"
    },
    "papermill": {
     "duration": 0.043075,
     "end_time": "2022-03-26T22:45:32.828778",
     "exception": false,
     "start_time": "2022-03-26T22:45:32.785703",
     "status": "completed"
    },
    "tags": []
   },
   "outputs": [
    {
     "data": {
      "application/javascript": [
       "parent.postMessage({\"jupyterEvent\": \"custom.exercise_interaction\", \"data\": {\"outcomeType\": 1, \"valueTowardsCompletion\": 0.2, \"interactionType\": 1, \"questionType\": 1, \"questionId\": \"4_UnderstandLen\", \"learnToolsVersion\": \"0.3.4\", \"failureMessage\": \"\", \"exceptionClass\": \"\", \"trace\": \"\"}}, \"*\")"
      ],
      "text/plain": [
       "<IPython.core.display.Javascript object>"
      ]
     },
     "metadata": {},
     "output_type": "display_data"
    },
    {
     "data": {
      "text/markdown": [
       "<span style=\"color:#33cc33\">Correct:</span> \n",
       "\n",
       "\n",
       "- a: There are three items in this list. Nothing tricky yet.\n",
       "- b: The list `[2, 3]` counts as a single item. It has one item before it. So we have 2 items in the list\n",
       "- c: The empty list has 0 items\n",
       "- d: The expression is the same as the list `[2, 3]`, which has length 2."
      ],
      "text/plain": [
       "Correct: \n",
       "\n",
       "\n",
       "- a: There are three items in this list. Nothing tricky yet.\n",
       "- b: The list `[2, 3]` counts as a single item. It has one item before it. So we have 2 items in the list\n",
       "- c: The empty list has 0 items\n",
       "- d: The expression is the same as the list `[2, 3]`, which has length 2."
      ]
     },
     "metadata": {},
     "output_type": "display_data"
    }
   ],
   "source": [
    "a = [1, 2, 3]\n",
    "b = [1, [2, 3]]\n",
    "c = []\n",
    "d = [1, 2, 3][1:]\n",
    "\n",
    "# Put your predictions in the list below. Lengths should contain 4 numbers, the\n",
    "# first being the length of a, the second being the length of b and so on.\n",
    "lengths = [3,2,0,2]\n",
    "\n",
    "# Check your answer\n",
    "q4.check()"
   ]
  },
  {
   "cell_type": "code",
   "execution_count": 9,
   "id": "955f2558",
   "metadata": {
    "execution": {
     "iopub.execute_input": "2022-03-26T22:45:32.895257Z",
     "iopub.status.busy": "2022-03-26T22:45:32.894409Z",
     "iopub.status.idle": "2022-03-26T22:45:32.897675Z",
     "shell.execute_reply": "2022-03-26T22:45:32.897037Z",
     "shell.execute_reply.started": "2022-03-26T22:33:17.861130Z"
    },
    "papermill": {
     "duration": 0.038121,
     "end_time": "2022-03-26T22:45:32.897829",
     "exception": false,
     "start_time": "2022-03-26T22:45:32.859708",
     "status": "completed"
    },
    "tags": []
   },
   "outputs": [],
   "source": [
    "# line below provides some explanation\n",
    "#q4.solution()"
   ]
  },
  {
   "cell_type": "markdown",
   "id": "b53862b6",
   "metadata": {
    "papermill": {
     "duration": 0.029701,
     "end_time": "2022-03-26T22:45:32.957948",
     "exception": false,
     "start_time": "2022-03-26T22:45:32.928247",
     "status": "completed"
    },
    "tags": []
   },
   "source": [
    "# 5. <span title=\"A bit spicy\" style=\"color: darkgreen \">🌶️</span>\n",
    "\n",
    "We're using lists to record people who attended our party and what order they arrived in. For example, the following list represents a party with 7 guests, in which Adela showed up first and Ford was the last to arrive:\n",
    "\n",
    "    party_attendees = ['Adela', 'Fleda', 'Owen', 'May', 'Mona', 'Gilbert', 'Ford']\n",
    "\n",
    "A guest is considered 'fashionably late' if they arrived after at least half of the party's guests. However, they must not be the very last guest (that's taking it too far). In the above example, Mona and Gilbert are the only guests who were fashionably late.\n",
    "\n",
    "Complete the function below which takes a list of party attendees as well as a person, and tells us whether that person is fashionably late."
   ]
  },
  {
   "cell_type": "code",
   "execution_count": 10,
   "id": "b34e0777",
   "metadata": {
    "execution": {
     "iopub.execute_input": "2022-03-26T22:45:33.025435Z",
     "iopub.status.busy": "2022-03-26T22:45:33.020538Z",
     "iopub.status.idle": "2022-03-26T22:45:33.030210Z",
     "shell.execute_reply": "2022-03-26T22:45:33.030914Z",
     "shell.execute_reply.started": "2022-03-26T22:43:49.425471Z"
    },
    "papermill": {
     "duration": 0.042966,
     "end_time": "2022-03-26T22:45:33.031095",
     "exception": false,
     "start_time": "2022-03-26T22:45:32.988129",
     "status": "completed"
    },
    "tags": []
   },
   "outputs": [
    {
     "data": {
      "application/javascript": [
       "parent.postMessage({\"jupyterEvent\": \"custom.exercise_interaction\", \"data\": {\"outcomeType\": 1, \"valueTowardsCompletion\": 0.2, \"interactionType\": 1, \"questionType\": 2, \"questionId\": \"5_FashionablyLate\", \"learnToolsVersion\": \"0.3.4\", \"failureMessage\": \"\", \"exceptionClass\": \"\", \"trace\": \"\"}}, \"*\")"
      ],
      "text/plain": [
       "<IPython.core.display.Javascript object>"
      ]
     },
     "metadata": {},
     "output_type": "display_data"
    },
    {
     "data": {
      "text/markdown": [
       "<span style=\"color:#33cc33\">Correct</span>"
      ],
      "text/plain": [
       "Correct"
      ]
     },
     "metadata": {},
     "output_type": "display_data"
    }
   ],
   "source": [
    "def fashionably_late(arrivals, name):\n",
    "    \"\"\"Given an ordered list of arrivals to the party and a name, return whether the guest with that\n",
    "    name was fashionably late.\n",
    "    \"\"\"\n",
    "    position = arrivals.index(name)\n",
    "    if position >= len(arrivals)/2 and position != len(arrivals)-1:\n",
    "        return True\n",
    "    else:\n",
    "        return False\n",
    "\n",
    "# Check your answer\n",
    "q5.check()"
   ]
  },
  {
   "cell_type": "code",
   "execution_count": 11,
   "id": "48633f4b",
   "metadata": {
    "execution": {
     "iopub.execute_input": "2022-03-26T22:45:33.102424Z",
     "iopub.status.busy": "2022-03-26T22:45:33.101486Z",
     "iopub.status.idle": "2022-03-26T22:45:33.108309Z",
     "shell.execute_reply": "2022-03-26T22:45:33.108854Z",
     "shell.execute_reply.started": "2022-03-26T22:40:28.380725Z"
    },
    "papermill": {
     "duration": 0.04571,
     "end_time": "2022-03-26T22:45:33.109023",
     "exception": false,
     "start_time": "2022-03-26T22:45:33.063313",
     "status": "completed"
    },
    "tags": []
   },
   "outputs": [
    {
     "data": {
      "application/javascript": [
       "parent.postMessage({\"jupyterEvent\": \"custom.exercise_interaction\", \"data\": {\"interactionType\": 2, \"questionType\": 2, \"questionId\": \"5_FashionablyLate\", \"learnToolsVersion\": \"0.3.4\", \"valueTowardsCompletion\": 0.0, \"failureMessage\": \"\", \"exceptionClass\": \"\", \"trace\": \"\", \"outcomeType\": 4}}, \"*\")"
      ],
      "text/plain": [
       "<IPython.core.display.Javascript object>"
      ]
     },
     "metadata": {},
     "output_type": "display_data"
    },
    {
     "data": {
      "text/markdown": [
       "<span style=\"color:#3366cc\">Hint:</span> Use the index method to find when the person arrived. Check whether that is a fashionably late spot given the list length (`len`). Think about 0-indexing"
      ],
      "text/plain": [
       "Hint: Use the index method to find when the person arrived. Check whether that is a fashionably late spot given the list length (`len`). Think about 0-indexing"
      ]
     },
     "metadata": {},
     "output_type": "display_data"
    },
    {
     "data": {
      "application/javascript": [
       "parent.postMessage({\"jupyterEvent\": \"custom.exercise_interaction\", \"data\": {\"interactionType\": 3, \"questionType\": 2, \"questionId\": \"5_FashionablyLate\", \"learnToolsVersion\": \"0.3.4\", \"valueTowardsCompletion\": 0.0, \"failureMessage\": \"\", \"exceptionClass\": \"\", \"trace\": \"\", \"outcomeType\": 4}}, \"*\")"
      ],
      "text/plain": [
       "<IPython.core.display.Javascript object>"
      ]
     },
     "metadata": {},
     "output_type": "display_data"
    },
    {
     "data": {
      "text/markdown": [
       "<span style=\"color:#33cc99\">Solution:</span> \n",
       "```python\n",
       "def fashionably_late(arrivals, name):\n",
       "    order = arrivals.index(name)\n",
       "    return order >= len(arrivals) / 2 and order != len(arrivals) - 1\n",
       "```"
      ],
      "text/plain": [
       "Solution: \n",
       "```python\n",
       "def fashionably_late(arrivals, name):\n",
       "    order = arrivals.index(name)\n",
       "    return order >= len(arrivals) / 2 and order != len(arrivals) - 1\n",
       "```"
      ]
     },
     "metadata": {},
     "output_type": "display_data"
    }
   ],
   "source": [
    "q5.hint()\n",
    "q5.solution()"
   ]
  },
  {
   "cell_type": "markdown",
   "id": "e74d97cb",
   "metadata": {
    "papermill": {
     "duration": 0.034489,
     "end_time": "2022-03-26T22:45:33.180563",
     "exception": false,
     "start_time": "2022-03-26T22:45:33.146074",
     "status": "completed"
    },
    "tags": []
   },
   "source": [
    "# Keep Going\n",
    "\n",
    "That's it for lists and tuples! Now you have the baseline knowledge to **[learn about loops](https://www.kaggle.com/colinmorris/loops-and-list-comprehensions)**, which is where lists and tuples get really interesting. "
   ]
  },
  {
   "cell_type": "markdown",
   "id": "de1d2c3d",
   "metadata": {
    "papermill": {
     "duration": 0.024659,
     "end_time": "2022-03-26T22:45:33.240611",
     "exception": false,
     "start_time": "2022-03-26T22:45:33.215952",
     "status": "completed"
    },
    "tags": []
   },
   "source": [
    "---\n",
    "\n",
    "\n",
    "\n",
    "\n",
    "*Have questions or comments? Visit the [course discussion forum](https://www.kaggle.com/learn/python/discussion) to chat with other learners.*"
   ]
  }
 ],
 "metadata": {
  "kernelspec": {
   "display_name": "Python 3",
   "language": "python",
   "name": "python3"
  },
  "language_info": {
   "codemirror_mode": {
    "name": "ipython",
    "version": 3
   },
   "file_extension": ".py",
   "mimetype": "text/x-python",
   "name": "python",
   "nbconvert_exporter": "python",
   "pygments_lexer": "ipython3",
   "version": "3.7.12"
  },
  "papermill": {
   "default_parameters": {},
   "duration": 13.173583,
   "end_time": "2022-03-26T22:45:34.174955",
   "environment_variables": {},
   "exception": null,
   "input_path": "__notebook__.ipynb",
   "output_path": "__notebook__.ipynb",
   "parameters": {},
   "start_time": "2022-03-26T22:45:21.001372",
   "version": "2.3.3"
  }
 },
 "nbformat": 4,
 "nbformat_minor": 5
}
